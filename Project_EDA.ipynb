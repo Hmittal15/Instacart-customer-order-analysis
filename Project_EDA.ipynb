{
 "cells": [
  {
   "cell_type": "code",
   "execution_count": 1,
   "id": "95092625",
   "metadata": {},
   "outputs": [],
   "source": [
    "import numpy as np\n",
    "import pandas as pd\n",
    "import warnings \n",
    "warnings.simplefilter(action='ignore', category=FutureWarning)\n",
    "%matplotlib inline\n",
    "import matplotlib.pyplot as plt\n",
    "import seaborn as sns\n"
   ]
  },
  {
   "cell_type": "markdown",
   "id": "bfff0a89",
   "metadata": {},
   "source": [
    "## Load data"
   ]
  },
  {
   "cell_type": "code",
   "execution_count": 2,
   "id": "149f6735",
   "metadata": {},
   "outputs": [
    {
     "name": "stdout",
     "output_type": "stream",
     "text": [
      "   aisle_id                       aisle\n",
      "0         1       prepared soups salads\n",
      "1         2           specialty cheeses\n",
      "2         3         energy granola bars\n",
      "3         4               instant foods\n",
      "4         5  marinades meat preparation\n",
      "   department_id department\n",
      "0              1     frozen\n",
      "1              2      other\n",
      "2              3     bakery\n",
      "3              4    produce\n",
      "4              5    alcohol\n",
      "   order_id  product_id  add_to_cart_order  reordered\n",
      "0         2       33120                  1          1\n",
      "1         2       28985                  2          1\n",
      "2         2        9327                  3          0\n",
      "3         2       45918                  4          1\n",
      "4         2       30035                  5          0\n",
      "   order_id  product_id  add_to_cart_order  reordered\n",
      "0         1       49302                  1          1\n",
      "1         1       11109                  2          1\n",
      "2         1       10246                  3          0\n",
      "3         1       49683                  4          0\n",
      "4         1       43633                  5          1\n",
      "   product_id                                       product_name  aisle_id  \\\n",
      "0           1                         Chocolate Sandwich Cookies        61   \n",
      "1           2                                   All-Seasons Salt       104   \n",
      "2           3               Robust Golden Unsweetened Oolong Tea        94   \n",
      "3           4  Smart Ones Classic Favorites Mini Rigatoni Wit...        38   \n",
      "4           5                          Green Chile Anytime Sauce         5   \n",
      "\n",
      "   department_id  \n",
      "0             19  \n",
      "1             13  \n",
      "2              7  \n",
      "3              1  \n",
      "4             13  \n",
      "   order_id  user_id eval_set  order_number  order_dow  order_hour_of_day  \\\n",
      "0   2539329        1    prior             1          2                  8   \n",
      "1   2398795        1    prior             2          3                  7   \n",
      "2    473747        1    prior             3          3                 12   \n",
      "3   2254736        1    prior             4          4                  7   \n",
      "4    431534        1    prior             5          4                 15   \n",
      "\n",
      "   days_since_prior_order  \n",
      "0                     NaN  \n",
      "1                    15.0  \n",
      "2                    21.0  \n",
      "3                    29.0  \n",
      "4                    28.0  \n"
     ]
    }
   ],
   "source": [
    "# Convert data into pandas DataFrame\n",
    "\n",
    "aisles=pd.read_csv('datasets/aisles.csv', \n",
    "                   dtype={'aisle_id': 'uint8', \n",
    "                          'aisle': str})\n",
    "departments=pd.read_csv('datasets/departments.csv',\n",
    "                       dtype={'department': str,\n",
    "                              'department_id': 'uint8'})\n",
    "order_products_prior=pd.read_csv('datasets/order_products__prior.csv',\n",
    "                                dtype={'order_id': np.uint32,\n",
    "                                      'product_id': np.int32,\n",
    "                                      'add_to_cart_order': 'uint8',\n",
    "                                      'reorder': 'uint8'})\n",
    "order_products_train=pd.read_csv('datasets/order_products__train.csv',\n",
    "                                dtype={'product_id': np.int32,\n",
    "                                       'order_id': np.uint32,      \n",
    "                                       'reorder': 'uint8',\n",
    "                                      'add_to_cart_order': 'uint8'})\n",
    "products=pd.read_csv('datasets/products.csv',\n",
    "                    dtype={'product_name': str,\n",
    "                        'product_id': np.uint32, \n",
    "                           'department_id': np.uint32,\n",
    "                          'aisle_id': np.uint32})\n",
    "orders=pd.read_csv('datasets/orders.csv',\n",
    "                  dtype={'order_number':'uint8',\n",
    "                        'order_id': np.uint32,                        \n",
    "                        'eval_set': str,      \n",
    "                        'user_id': np.uint32,\n",
    "                        'order_dow': 'uint8',                        \n",
    "                        'days_since_prior_order': 'float16',\n",
    "                        'order_hour_of_day': 'uint8',})\n",
    "print(aisles.head(5))\n",
    "print(departments.head(5))\n",
    "print(order_products_prior.head(5))\n",
    "print(order_products_train.head(5))\n",
    "print(products.head(5))\n",
    "print(orders.head(5))\n",
    "\n"
   ]
  },
  {
   "cell_type": "markdown",
   "id": "0d9d80f7",
   "metadata": {},
   "source": [
    "### Aisles"
   ]
  },
  {
   "cell_type": "code",
   "execution_count": 3,
   "id": "eabec2e9",
   "metadata": {},
   "outputs": [
    {
     "name": "stdout",
     "output_type": "stream",
     "text": [
      "<class 'pandas.core.frame.DataFrame'>\n",
      "RangeIndex: 134 entries, 0 to 133\n",
      "Data columns (total 2 columns):\n",
      " #   Column    Non-Null Count  Dtype \n",
      "---  ------    --------------  ----- \n",
      " 0   aisle_id  134 non-null    uint8 \n",
      " 1   aisle     134 non-null    object\n",
      "dtypes: object(1), uint8(1)\n",
      "memory usage: 1.3+ KB\n"
     ]
    }
   ],
   "source": [
    "aisles.info(verbose=True)"
   ]
  },
  {
   "cell_type": "markdown",
   "id": "e6918d0f",
   "metadata": {},
   "source": [
    "### Departments"
   ]
  },
  {
   "cell_type": "code",
   "execution_count": 4,
   "id": "777b9d72",
   "metadata": {},
   "outputs": [
    {
     "name": "stdout",
     "output_type": "stream",
     "text": [
      "<class 'pandas.core.frame.DataFrame'>\n",
      "RangeIndex: 21 entries, 0 to 20\n",
      "Data columns (total 2 columns):\n",
      " #   Column         Non-Null Count  Dtype \n",
      "---  ------         --------------  ----- \n",
      " 0   department_id  21 non-null     uint8 \n",
      " 1   department     21 non-null     object\n",
      "dtypes: object(1), uint8(1)\n",
      "memory usage: 317.0+ bytes\n"
     ]
    }
   ],
   "source": [
    "departments.info(verbose=True)"
   ]
  },
  {
   "cell_type": "markdown",
   "id": "83da4585",
   "metadata": {},
   "source": [
    "### Order Products Prior"
   ]
  },
  {
   "cell_type": "code",
   "execution_count": 5,
   "id": "28ab8bb1",
   "metadata": {},
   "outputs": [
    {
     "name": "stdout",
     "output_type": "stream",
     "text": [
      "<class 'pandas.core.frame.DataFrame'>\n",
      "RangeIndex: 32434489 entries, 0 to 32434488\n",
      "Data columns (total 4 columns):\n",
      " #   Column             Non-Null Count     Dtype \n",
      "---  ------             --------------     ----- \n",
      " 0   order_id           32434489 non-null  uint32\n",
      " 1   product_id         32434489 non-null  int32 \n",
      " 2   add_to_cart_order  32434489 non-null  uint8 \n",
      " 3   reordered          32434489 non-null  int64 \n",
      "dtypes: int32(1), int64(1), uint32(1), uint8(1)\n",
      "memory usage: 525.8 MB\n"
     ]
    }
   ],
   "source": [
    "order_products_prior.info(show_counts=True)"
   ]
  },
  {
   "cell_type": "markdown",
   "id": "2f26990d",
   "metadata": {},
   "source": [
    "### Order Products Train"
   ]
  },
  {
   "cell_type": "code",
   "execution_count": 6,
   "id": "c7f15fec",
   "metadata": {
    "scrolled": true
   },
   "outputs": [
    {
     "name": "stdout",
     "output_type": "stream",
     "text": [
      "<class 'pandas.core.frame.DataFrame'>\n",
      "RangeIndex: 1384617 entries, 0 to 1384616\n",
      "Data columns (total 4 columns):\n",
      " #   Column             Non-Null Count    Dtype \n",
      "---  ------             --------------    ----- \n",
      " 0   order_id           1384617 non-null  uint32\n",
      " 1   product_id         1384617 non-null  int32 \n",
      " 2   add_to_cart_order  1384617 non-null  uint8 \n",
      " 3   reordered          1384617 non-null  int64 \n",
      "dtypes: int32(1), int64(1), uint32(1), uint8(1)\n",
      "memory usage: 22.4 MB\n"
     ]
    }
   ],
   "source": [
    "order_products_train.info(show_counts=True)"
   ]
  },
  {
   "cell_type": "markdown",
   "id": "69f8b9d2",
   "metadata": {},
   "source": [
    "### Products"
   ]
  },
  {
   "cell_type": "code",
   "execution_count": 7,
   "id": "7dbebbda",
   "metadata": {},
   "outputs": [
    {
     "name": "stdout",
     "output_type": "stream",
     "text": [
      "<class 'pandas.core.frame.DataFrame'>\n",
      "RangeIndex: 49688 entries, 0 to 49687\n",
      "Data columns (total 4 columns):\n",
      " #   Column         Non-Null Count  Dtype \n",
      "---  ------         --------------  ----- \n",
      " 0   product_id     49688 non-null  uint32\n",
      " 1   product_name   49688 non-null  object\n",
      " 2   aisle_id       49688 non-null  uint32\n",
      " 3   department_id  49688 non-null  uint32\n",
      "dtypes: object(1), uint32(3)\n",
      "memory usage: 970.6+ KB\n"
     ]
    }
   ],
   "source": [
    "products.info(verbose=True)"
   ]
  },
  {
   "cell_type": "markdown",
   "id": "bc591818",
   "metadata": {},
   "source": [
    "### Orders"
   ]
  },
  {
   "cell_type": "code",
   "execution_count": 8,
   "id": "4aa192fc",
   "metadata": {},
   "outputs": [
    {
     "name": "stdout",
     "output_type": "stream",
     "text": [
      "<class 'pandas.core.frame.DataFrame'>\n",
      "RangeIndex: 3421083 entries, 0 to 3421082\n",
      "Data columns (total 7 columns):\n",
      " #   Column                  Non-Null Count    Dtype  \n",
      "---  ------                  --------------    -----  \n",
      " 0   order_id                3421083 non-null  uint32 \n",
      " 1   user_id                 3421083 non-null  uint32 \n",
      " 2   eval_set                3421083 non-null  object \n",
      " 3   order_number            3421083 non-null  uint8  \n",
      " 4   order_dow               3421083 non-null  uint8  \n",
      " 5   order_hour_of_day       3421083 non-null  uint8  \n",
      " 6   days_since_prior_order  3214874 non-null  float16\n",
      "dtypes: float16(1), object(1), uint32(2), uint8(3)\n",
      "memory usage: 68.5+ MB\n"
     ]
    }
   ],
   "source": [
    "orders.info(show_counts=True)"
   ]
  },
  {
   "cell_type": "code",
   "execution_count": 9,
   "id": "1fa8676e",
   "metadata": {},
   "outputs": [
    {
     "data": {
      "text/plain": [
       "order_id                  3421083\n",
       "user_id                    206209\n",
       "eval_set                        3\n",
       "order_number                  100\n",
       "order_dow                       7\n",
       "order_hour_of_day              24\n",
       "days_since_prior_order         31\n",
       "dtype: int64"
      ]
     },
     "execution_count": 9,
     "metadata": {},
     "output_type": "execute_result"
    }
   ],
   "source": [
    "# Number of unique values per column\n",
    "orders.nunique()"
   ]
  },
  {
   "cell_type": "code",
   "execution_count": 10,
   "id": "a8f9a305",
   "metadata": {},
   "outputs": [
    {
     "data": {
      "text/plain": [
       "array(['prior', 'train', 'test'], dtype=object)"
      ]
     },
     "execution_count": 10,
     "metadata": {},
     "output_type": "execute_result"
    }
   ],
   "source": [
    "orders.eval_set.unique()"
   ]
  },
  {
   "cell_type": "code",
   "execution_count": 11,
   "id": "71630068",
   "metadata": {},
   "outputs": [
    {
     "name": "stdout",
     "output_type": "stream",
     "text": [
      "<class 'pandas.core.frame.DataFrame'>\n",
      "RangeIndex: 3421083 entries, 0 to 3421082\n",
      "Data columns (total 7 columns):\n",
      " #   Column                  Non-Null Count    Dtype  \n",
      "---  ------                  --------------    -----  \n",
      " 0   order_id                3421083 non-null  uint32 \n",
      " 1   user_id                 3421083 non-null  uint32 \n",
      " 2   eval_set                3421083 non-null  object \n",
      " 3   order_number            3421083 non-null  uint8  \n",
      " 4   order_dow               3421083 non-null  uint8  \n",
      " 5   order_hour_of_day       3421083 non-null  uint8  \n",
      " 6   days_since_prior_order  3214874 non-null  float16\n",
      "dtypes: float16(1), object(1), uint32(2), uint8(3)\n",
      "memory usage: 68.5+ MB\n"
     ]
    }
   ],
   "source": [
    "orders.info(show_counts=True)"
   ]
  },
  {
   "cell_type": "code",
   "execution_count": 12,
   "id": "a5b4094d",
   "metadata": {
    "scrolled": true
   },
   "outputs": [
    {
     "data": {
      "text/plain": [
       "206209"
      ]
     },
     "execution_count": 12,
     "metadata": {},
     "output_type": "execute_result"
    }
   ],
   "source": [
    "orders.days_since_prior_order.isna().sum()"
   ]
  },
  {
   "cell_type": "code",
   "execution_count": 13,
   "id": "108689ac",
   "metadata": {},
   "outputs": [
    {
     "data": {
      "text/plain": [
       "0           0.0\n",
       "1          15.0\n",
       "2          21.0\n",
       "3          29.0\n",
       "4          28.0\n",
       "           ... \n",
       "3421078    29.0\n",
       "3421079    30.0\n",
       "3421080    18.0\n",
       "3421081     7.0\n",
       "3421082    30.0\n",
       "Name: days_since_prior_order, Length: 3421083, dtype: float16"
      ]
     },
     "execution_count": 13,
     "metadata": {},
     "output_type": "execute_result"
    }
   ],
   "source": [
    "days_prior_order=orders.days_since_prior_order\n",
    "days_prior_order.fillna(0,inplace=True)\n",
    "days_prior_order\n"
   ]
  },
  {
   "cell_type": "markdown",
   "id": "0e1a32b1",
   "metadata": {},
   "source": [
    "### Duplicates"
   ]
  },
  {
   "cell_type": "code",
   "execution_count": 14,
   "id": "8ad9e8c5",
   "metadata": {},
   "outputs": [
    {
     "data": {
      "text/plain": [
       "False"
      ]
     },
     "execution_count": 14,
     "metadata": {},
     "output_type": "execute_result"
    }
   ],
   "source": [
    "aisles.duplicated().any()"
   ]
  },
  {
   "cell_type": "code",
   "execution_count": 15,
   "id": "94aa4931",
   "metadata": {},
   "outputs": [
    {
     "data": {
      "text/plain": [
       "False"
      ]
     },
     "execution_count": 15,
     "metadata": {},
     "output_type": "execute_result"
    }
   ],
   "source": [
    "departments.duplicated().any()"
   ]
  },
  {
   "cell_type": "code",
   "execution_count": 16,
   "id": "ac907425",
   "metadata": {},
   "outputs": [
    {
     "data": {
      "text/plain": [
       "False"
      ]
     },
     "execution_count": 16,
     "metadata": {},
     "output_type": "execute_result"
    }
   ],
   "source": [
    "order_products_prior.duplicated().any()"
   ]
  },
  {
   "cell_type": "code",
   "execution_count": 17,
   "id": "fa11675f",
   "metadata": {},
   "outputs": [
    {
     "data": {
      "text/plain": [
       "False"
      ]
     },
     "execution_count": 17,
     "metadata": {},
     "output_type": "execute_result"
    }
   ],
   "source": [
    "order_products_train.duplicated().any()"
   ]
  },
  {
   "cell_type": "code",
   "execution_count": 18,
   "id": "799f1705",
   "metadata": {},
   "outputs": [
    {
     "data": {
      "text/plain": [
       "False"
      ]
     },
     "execution_count": 18,
     "metadata": {},
     "output_type": "execute_result"
    }
   ],
   "source": [
    "products.duplicated().any()"
   ]
  },
  {
   "cell_type": "code",
   "execution_count": 19,
   "id": "7c8fba65",
   "metadata": {},
   "outputs": [
    {
     "data": {
      "text/plain": [
       "False"
      ]
     },
     "execution_count": 19,
     "metadata": {},
     "output_type": "execute_result"
    }
   ],
   "source": [
    "orders.duplicated().any()"
   ]
  },
  {
   "cell_type": "markdown",
   "id": "4fbc816c",
   "metadata": {},
   "source": [
    "### Merging Tables"
   ]
  },
  {
   "cell_type": "code",
   "execution_count": 20,
   "id": "7f2d9ab9",
   "metadata": {},
   "outputs": [
    {
     "data": {
      "text/html": [
       "<div>\n",
       "<style scoped>\n",
       "    .dataframe tbody tr th:only-of-type {\n",
       "        vertical-align: middle;\n",
       "    }\n",
       "\n",
       "    .dataframe tbody tr th {\n",
       "        vertical-align: top;\n",
       "    }\n",
       "\n",
       "    .dataframe thead th {\n",
       "        text-align: right;\n",
       "    }\n",
       "</style>\n",
       "<table border=\"1\" class=\"dataframe\">\n",
       "  <thead>\n",
       "    <tr style=\"text-align: right;\">\n",
       "      <th></th>\n",
       "      <th>order_id</th>\n",
       "      <th>product_id</th>\n",
       "      <th>add_to_cart_order</th>\n",
       "      <th>reordered</th>\n",
       "    </tr>\n",
       "  </thead>\n",
       "  <tbody>\n",
       "    <tr>\n",
       "      <th>0</th>\n",
       "      <td>1</td>\n",
       "      <td>49302</td>\n",
       "      <td>1</td>\n",
       "      <td>1</td>\n",
       "    </tr>\n",
       "    <tr>\n",
       "      <th>1</th>\n",
       "      <td>1</td>\n",
       "      <td>11109</td>\n",
       "      <td>2</td>\n",
       "      <td>1</td>\n",
       "    </tr>\n",
       "    <tr>\n",
       "      <th>2</th>\n",
       "      <td>1</td>\n",
       "      <td>10246</td>\n",
       "      <td>3</td>\n",
       "      <td>0</td>\n",
       "    </tr>\n",
       "    <tr>\n",
       "      <th>3</th>\n",
       "      <td>1</td>\n",
       "      <td>49683</td>\n",
       "      <td>4</td>\n",
       "      <td>0</td>\n",
       "    </tr>\n",
       "    <tr>\n",
       "      <th>4</th>\n",
       "      <td>1</td>\n",
       "      <td>43633</td>\n",
       "      <td>5</td>\n",
       "      <td>1</td>\n",
       "    </tr>\n",
       "  </tbody>\n",
       "</table>\n",
       "</div>"
      ],
      "text/plain": [
       "   order_id  product_id  add_to_cart_order  reordered\n",
       "0         1       49302                  1          1\n",
       "1         1       11109                  2          1\n",
       "2         1       10246                  3          0\n",
       "3         1       49683                  4          0\n",
       "4         1       43633                  5          1"
      ]
     },
     "execution_count": 20,
     "metadata": {},
     "output_type": "execute_result"
    }
   ],
   "source": [
    "order_products_merged=pd.concat([order_products_train,order_products_prior],ignore_index=True)\n",
    "order_products_merged.head(5)\n"
   ]
  },
  {
   "cell_type": "code",
   "execution_count": 21,
   "id": "37604293",
   "metadata": {
    "scrolled": true
   },
   "outputs": [
    {
     "data": {
      "text/html": [
       "<div>\n",
       "<style scoped>\n",
       "    .dataframe tbody tr th:only-of-type {\n",
       "        vertical-align: middle;\n",
       "    }\n",
       "\n",
       "    .dataframe tbody tr th {\n",
       "        vertical-align: top;\n",
       "    }\n",
       "\n",
       "    .dataframe thead th {\n",
       "        text-align: right;\n",
       "    }\n",
       "</style>\n",
       "<table border=\"1\" class=\"dataframe\">\n",
       "  <thead>\n",
       "    <tr style=\"text-align: right;\">\n",
       "      <th></th>\n",
       "      <th>product_id</th>\n",
       "      <th>product_name</th>\n",
       "      <th>aisle_id</th>\n",
       "      <th>department_id</th>\n",
       "      <th>department</th>\n",
       "      <th>aisle</th>\n",
       "    </tr>\n",
       "  </thead>\n",
       "  <tbody>\n",
       "    <tr>\n",
       "      <th>0</th>\n",
       "      <td>1</td>\n",
       "      <td>Chocolate Sandwich Cookies</td>\n",
       "      <td>61</td>\n",
       "      <td>19</td>\n",
       "      <td>snacks</td>\n",
       "      <td>cookies cakes</td>\n",
       "    </tr>\n",
       "    <tr>\n",
       "      <th>1</th>\n",
       "      <td>78</td>\n",
       "      <td>Nutter Butter Cookie Bites Go-Pak</td>\n",
       "      <td>61</td>\n",
       "      <td>19</td>\n",
       "      <td>snacks</td>\n",
       "      <td>cookies cakes</td>\n",
       "    </tr>\n",
       "    <tr>\n",
       "      <th>2</th>\n",
       "      <td>102</td>\n",
       "      <td>Danish Butter Cookies</td>\n",
       "      <td>61</td>\n",
       "      <td>19</td>\n",
       "      <td>snacks</td>\n",
       "      <td>cookies cakes</td>\n",
       "    </tr>\n",
       "    <tr>\n",
       "      <th>3</th>\n",
       "      <td>172</td>\n",
       "      <td>Gluten Free All Natural Chocolate Chip Cookies</td>\n",
       "      <td>61</td>\n",
       "      <td>19</td>\n",
       "      <td>snacks</td>\n",
       "      <td>cookies cakes</td>\n",
       "    </tr>\n",
       "    <tr>\n",
       "      <th>4</th>\n",
       "      <td>285</td>\n",
       "      <td>Mini Nilla Wafers Munch Pack</td>\n",
       "      <td>61</td>\n",
       "      <td>19</td>\n",
       "      <td>snacks</td>\n",
       "      <td>cookies cakes</td>\n",
       "    </tr>\n",
       "  </tbody>\n",
       "</table>\n",
       "</div>"
      ],
      "text/plain": [
       "   product_id                                    product_name  aisle_id  \\\n",
       "0           1                      Chocolate Sandwich Cookies        61   \n",
       "1          78               Nutter Butter Cookie Bites Go-Pak        61   \n",
       "2         102                           Danish Butter Cookies        61   \n",
       "3         172  Gluten Free All Natural Chocolate Chip Cookies        61   \n",
       "4         285                    Mini Nilla Wafers Munch Pack        61   \n",
       "\n",
       "   department_id department          aisle  \n",
       "0             19     snacks  cookies cakes  \n",
       "1             19     snacks  cookies cakes  \n",
       "2             19     snacks  cookies cakes  \n",
       "3             19     snacks  cookies cakes  \n",
       "4             19     snacks  cookies cakes  "
      ]
     },
     "execution_count": 21,
     "metadata": {},
     "output_type": "execute_result"
    }
   ],
   "source": [
    "prod_dept=products.merge(departments, on='department_id')\n",
    "product_info=prod_dept.merge(aisles, on='aisle_id')\n",
    "product_info.head(5)\n"
   ]
  },
  {
   "cell_type": "code",
   "execution_count": 22,
   "id": "427cf6dc",
   "metadata": {
    "scrolled": true
   },
   "outputs": [
    {
     "data": {
      "text/html": [
       "<div>\n",
       "<style scoped>\n",
       "    .dataframe tbody tr th:only-of-type {\n",
       "        vertical-align: middle;\n",
       "    }\n",
       "\n",
       "    .dataframe tbody tr th {\n",
       "        vertical-align: top;\n",
       "    }\n",
       "\n",
       "    .dataframe thead th {\n",
       "        text-align: right;\n",
       "    }\n",
       "</style>\n",
       "<table border=\"1\" class=\"dataframe\">\n",
       "  <thead>\n",
       "    <tr style=\"text-align: right;\">\n",
       "      <th></th>\n",
       "      <th>order_id</th>\n",
       "      <th>user_id</th>\n",
       "      <th>eval_set</th>\n",
       "      <th>order_number</th>\n",
       "      <th>order_dow</th>\n",
       "      <th>order_hour_of_day</th>\n",
       "      <th>days_since_prior_order</th>\n",
       "      <th>product_id</th>\n",
       "      <th>add_to_cart_order</th>\n",
       "      <th>reordered</th>\n",
       "    </tr>\n",
       "  </thead>\n",
       "  <tbody>\n",
       "    <tr>\n",
       "      <th>0</th>\n",
       "      <td>2539329</td>\n",
       "      <td>1</td>\n",
       "      <td>prior</td>\n",
       "      <td>1</td>\n",
       "      <td>2</td>\n",
       "      <td>8</td>\n",
       "      <td>0.0</td>\n",
       "      <td>196</td>\n",
       "      <td>1</td>\n",
       "      <td>0</td>\n",
       "    </tr>\n",
       "    <tr>\n",
       "      <th>1</th>\n",
       "      <td>2539329</td>\n",
       "      <td>1</td>\n",
       "      <td>prior</td>\n",
       "      <td>1</td>\n",
       "      <td>2</td>\n",
       "      <td>8</td>\n",
       "      <td>0.0</td>\n",
       "      <td>14084</td>\n",
       "      <td>2</td>\n",
       "      <td>0</td>\n",
       "    </tr>\n",
       "    <tr>\n",
       "      <th>2</th>\n",
       "      <td>2539329</td>\n",
       "      <td>1</td>\n",
       "      <td>prior</td>\n",
       "      <td>1</td>\n",
       "      <td>2</td>\n",
       "      <td>8</td>\n",
       "      <td>0.0</td>\n",
       "      <td>12427</td>\n",
       "      <td>3</td>\n",
       "      <td>0</td>\n",
       "    </tr>\n",
       "    <tr>\n",
       "      <th>3</th>\n",
       "      <td>2539329</td>\n",
       "      <td>1</td>\n",
       "      <td>prior</td>\n",
       "      <td>1</td>\n",
       "      <td>2</td>\n",
       "      <td>8</td>\n",
       "      <td>0.0</td>\n",
       "      <td>26088</td>\n",
       "      <td>4</td>\n",
       "      <td>0</td>\n",
       "    </tr>\n",
       "    <tr>\n",
       "      <th>4</th>\n",
       "      <td>2539329</td>\n",
       "      <td>1</td>\n",
       "      <td>prior</td>\n",
       "      <td>1</td>\n",
       "      <td>2</td>\n",
       "      <td>8</td>\n",
       "      <td>0.0</td>\n",
       "      <td>26405</td>\n",
       "      <td>5</td>\n",
       "      <td>0</td>\n",
       "    </tr>\n",
       "    <tr>\n",
       "      <th>5</th>\n",
       "      <td>2398795</td>\n",
       "      <td>1</td>\n",
       "      <td>prior</td>\n",
       "      <td>2</td>\n",
       "      <td>3</td>\n",
       "      <td>7</td>\n",
       "      <td>15.0</td>\n",
       "      <td>196</td>\n",
       "      <td>1</td>\n",
       "      <td>1</td>\n",
       "    </tr>\n",
       "    <tr>\n",
       "      <th>6</th>\n",
       "      <td>2398795</td>\n",
       "      <td>1</td>\n",
       "      <td>prior</td>\n",
       "      <td>2</td>\n",
       "      <td>3</td>\n",
       "      <td>7</td>\n",
       "      <td>15.0</td>\n",
       "      <td>10258</td>\n",
       "      <td>2</td>\n",
       "      <td>0</td>\n",
       "    </tr>\n",
       "    <tr>\n",
       "      <th>7</th>\n",
       "      <td>2398795</td>\n",
       "      <td>1</td>\n",
       "      <td>prior</td>\n",
       "      <td>2</td>\n",
       "      <td>3</td>\n",
       "      <td>7</td>\n",
       "      <td>15.0</td>\n",
       "      <td>12427</td>\n",
       "      <td>3</td>\n",
       "      <td>1</td>\n",
       "    </tr>\n",
       "    <tr>\n",
       "      <th>8</th>\n",
       "      <td>2398795</td>\n",
       "      <td>1</td>\n",
       "      <td>prior</td>\n",
       "      <td>2</td>\n",
       "      <td>3</td>\n",
       "      <td>7</td>\n",
       "      <td>15.0</td>\n",
       "      <td>13176</td>\n",
       "      <td>4</td>\n",
       "      <td>0</td>\n",
       "    </tr>\n",
       "    <tr>\n",
       "      <th>9</th>\n",
       "      <td>2398795</td>\n",
       "      <td>1</td>\n",
       "      <td>prior</td>\n",
       "      <td>2</td>\n",
       "      <td>3</td>\n",
       "      <td>7</td>\n",
       "      <td>15.0</td>\n",
       "      <td>26088</td>\n",
       "      <td>5</td>\n",
       "      <td>1</td>\n",
       "    </tr>\n",
       "  </tbody>\n",
       "</table>\n",
       "</div>"
      ],
      "text/plain": [
       "   order_id  user_id eval_set  order_number  order_dow  order_hour_of_day  \\\n",
       "0   2539329        1    prior             1          2                  8   \n",
       "1   2539329        1    prior             1          2                  8   \n",
       "2   2539329        1    prior             1          2                  8   \n",
       "3   2539329        1    prior             1          2                  8   \n",
       "4   2539329        1    prior             1          2                  8   \n",
       "5   2398795        1    prior             2          3                  7   \n",
       "6   2398795        1    prior             2          3                  7   \n",
       "7   2398795        1    prior             2          3                  7   \n",
       "8   2398795        1    prior             2          3                  7   \n",
       "9   2398795        1    prior             2          3                  7   \n",
       "\n",
       "   days_since_prior_order  product_id  add_to_cart_order  reordered  \n",
       "0                     0.0         196                  1          0  \n",
       "1                     0.0       14084                  2          0  \n",
       "2                     0.0       12427                  3          0  \n",
       "3                     0.0       26088                  4          0  \n",
       "4                     0.0       26405                  5          0  \n",
       "5                    15.0         196                  1          1  \n",
       "6                    15.0       10258                  2          0  \n",
       "7                    15.0       12427                  3          1  \n",
       "8                    15.0       13176                  4          0  \n",
       "9                    15.0       26088                  5          1  "
      ]
     },
     "execution_count": 22,
     "metadata": {},
     "output_type": "execute_result"
    }
   ],
   "source": [
    "orders_product_merged = orders.merge(order_products_merged,on='order_id')\n",
    "orders_product_merged.head(10)\n"
   ]
  },
  {
   "cell_type": "code",
   "execution_count": 23,
   "id": "1e90820a",
   "metadata": {},
   "outputs": [
    {
     "data": {
      "text/html": [
       "<div>\n",
       "<style scoped>\n",
       "    .dataframe tbody tr th:only-of-type {\n",
       "        vertical-align: middle;\n",
       "    }\n",
       "\n",
       "    .dataframe tbody tr th {\n",
       "        vertical-align: top;\n",
       "    }\n",
       "\n",
       "    .dataframe thead th {\n",
       "        text-align: right;\n",
       "    }\n",
       "</style>\n",
       "<table border=\"1\" class=\"dataframe\">\n",
       "  <thead>\n",
       "    <tr style=\"text-align: right;\">\n",
       "      <th></th>\n",
       "      <th>order_id</th>\n",
       "      <th>product_id</th>\n",
       "      <th>add_to_cart_order</th>\n",
       "      <th>reordered</th>\n",
       "      <th>product_name</th>\n",
       "      <th>aisle_id</th>\n",
       "      <th>department_id</th>\n",
       "      <th>aisle</th>\n",
       "      <th>department</th>\n",
       "      <th>user_id</th>\n",
       "      <th>eval_set</th>\n",
       "      <th>order_number</th>\n",
       "      <th>order_dow</th>\n",
       "      <th>order_hour_of_day</th>\n",
       "      <th>days_since_prior_order</th>\n",
       "    </tr>\n",
       "  </thead>\n",
       "  <tbody>\n",
       "    <tr>\n",
       "      <th>0</th>\n",
       "      <td>1</td>\n",
       "      <td>49302</td>\n",
       "      <td>1</td>\n",
       "      <td>1</td>\n",
       "      <td>Bulgarian Yogurt</td>\n",
       "      <td>120</td>\n",
       "      <td>16</td>\n",
       "      <td>yogurt</td>\n",
       "      <td>dairy eggs</td>\n",
       "      <td>112108</td>\n",
       "      <td>train</td>\n",
       "      <td>4</td>\n",
       "      <td>4</td>\n",
       "      <td>10</td>\n",
       "      <td>9.0</td>\n",
       "    </tr>\n",
       "    <tr>\n",
       "      <th>1</th>\n",
       "      <td>1</td>\n",
       "      <td>11109</td>\n",
       "      <td>2</td>\n",
       "      <td>1</td>\n",
       "      <td>Organic 4% Milk Fat Whole Milk Cottage Cheese</td>\n",
       "      <td>108</td>\n",
       "      <td>16</td>\n",
       "      <td>other creams cheeses</td>\n",
       "      <td>dairy eggs</td>\n",
       "      <td>112108</td>\n",
       "      <td>train</td>\n",
       "      <td>4</td>\n",
       "      <td>4</td>\n",
       "      <td>10</td>\n",
       "      <td>9.0</td>\n",
       "    </tr>\n",
       "    <tr>\n",
       "      <th>2</th>\n",
       "      <td>1</td>\n",
       "      <td>10246</td>\n",
       "      <td>3</td>\n",
       "      <td>0</td>\n",
       "      <td>Organic Celery Hearts</td>\n",
       "      <td>83</td>\n",
       "      <td>4</td>\n",
       "      <td>fresh vegetables</td>\n",
       "      <td>produce</td>\n",
       "      <td>112108</td>\n",
       "      <td>train</td>\n",
       "      <td>4</td>\n",
       "      <td>4</td>\n",
       "      <td>10</td>\n",
       "      <td>9.0</td>\n",
       "    </tr>\n",
       "    <tr>\n",
       "      <th>3</th>\n",
       "      <td>1</td>\n",
       "      <td>49683</td>\n",
       "      <td>4</td>\n",
       "      <td>0</td>\n",
       "      <td>Cucumber Kirby</td>\n",
       "      <td>83</td>\n",
       "      <td>4</td>\n",
       "      <td>fresh vegetables</td>\n",
       "      <td>produce</td>\n",
       "      <td>112108</td>\n",
       "      <td>train</td>\n",
       "      <td>4</td>\n",
       "      <td>4</td>\n",
       "      <td>10</td>\n",
       "      <td>9.0</td>\n",
       "    </tr>\n",
       "    <tr>\n",
       "      <th>4</th>\n",
       "      <td>1</td>\n",
       "      <td>43633</td>\n",
       "      <td>5</td>\n",
       "      <td>1</td>\n",
       "      <td>Lightly Smoked Sardines in Olive Oil</td>\n",
       "      <td>95</td>\n",
       "      <td>15</td>\n",
       "      <td>canned meat seafood</td>\n",
       "      <td>canned goods</td>\n",
       "      <td>112108</td>\n",
       "      <td>train</td>\n",
       "      <td>4</td>\n",
       "      <td>4</td>\n",
       "      <td>10</td>\n",
       "      <td>9.0</td>\n",
       "    </tr>\n",
       "    <tr>\n",
       "      <th>...</th>\n",
       "      <td>...</td>\n",
       "      <td>...</td>\n",
       "      <td>...</td>\n",
       "      <td>...</td>\n",
       "      <td>...</td>\n",
       "      <td>...</td>\n",
       "      <td>...</td>\n",
       "      <td>...</td>\n",
       "      <td>...</td>\n",
       "      <td>...</td>\n",
       "      <td>...</td>\n",
       "      <td>...</td>\n",
       "      <td>...</td>\n",
       "      <td>...</td>\n",
       "      <td>...</td>\n",
       "    </tr>\n",
       "    <tr>\n",
       "      <th>33819101</th>\n",
       "      <td>3421083</td>\n",
       "      <td>39678</td>\n",
       "      <td>6</td>\n",
       "      <td>1</td>\n",
       "      <td>Free &amp; Clear Natural Dishwasher Detergent</td>\n",
       "      <td>74</td>\n",
       "      <td>17</td>\n",
       "      <td>dish detergents</td>\n",
       "      <td>household</td>\n",
       "      <td>25247</td>\n",
       "      <td>prior</td>\n",
       "      <td>24</td>\n",
       "      <td>2</td>\n",
       "      <td>6</td>\n",
       "      <td>21.0</td>\n",
       "    </tr>\n",
       "    <tr>\n",
       "      <th>33819102</th>\n",
       "      <td>3421083</td>\n",
       "      <td>11352</td>\n",
       "      <td>7</td>\n",
       "      <td>0</td>\n",
       "      <td>Organic Mini Sandwich Crackers Peanut Butter</td>\n",
       "      <td>78</td>\n",
       "      <td>19</td>\n",
       "      <td>crackers</td>\n",
       "      <td>snacks</td>\n",
       "      <td>25247</td>\n",
       "      <td>prior</td>\n",
       "      <td>24</td>\n",
       "      <td>2</td>\n",
       "      <td>6</td>\n",
       "      <td>21.0</td>\n",
       "    </tr>\n",
       "    <tr>\n",
       "      <th>33819103</th>\n",
       "      <td>3421083</td>\n",
       "      <td>4600</td>\n",
       "      <td>8</td>\n",
       "      <td>0</td>\n",
       "      <td>All Natural French Toast Sticks</td>\n",
       "      <td>52</td>\n",
       "      <td>1</td>\n",
       "      <td>frozen breakfast</td>\n",
       "      <td>frozen</td>\n",
       "      <td>25247</td>\n",
       "      <td>prior</td>\n",
       "      <td>24</td>\n",
       "      <td>2</td>\n",
       "      <td>6</td>\n",
       "      <td>21.0</td>\n",
       "    </tr>\n",
       "    <tr>\n",
       "      <th>33819104</th>\n",
       "      <td>3421083</td>\n",
       "      <td>24852</td>\n",
       "      <td>9</td>\n",
       "      <td>1</td>\n",
       "      <td>Banana</td>\n",
       "      <td>24</td>\n",
       "      <td>4</td>\n",
       "      <td>fresh fruits</td>\n",
       "      <td>produce</td>\n",
       "      <td>25247</td>\n",
       "      <td>prior</td>\n",
       "      <td>24</td>\n",
       "      <td>2</td>\n",
       "      <td>6</td>\n",
       "      <td>21.0</td>\n",
       "    </tr>\n",
       "    <tr>\n",
       "      <th>33819105</th>\n",
       "      <td>3421083</td>\n",
       "      <td>5020</td>\n",
       "      <td>10</td>\n",
       "      <td>1</td>\n",
       "      <td>Organic  Sweet &amp; Salty Peanut Pretzel Granola ...</td>\n",
       "      <td>3</td>\n",
       "      <td>19</td>\n",
       "      <td>energy granola bars</td>\n",
       "      <td>snacks</td>\n",
       "      <td>25247</td>\n",
       "      <td>prior</td>\n",
       "      <td>24</td>\n",
       "      <td>2</td>\n",
       "      <td>6</td>\n",
       "      <td>21.0</td>\n",
       "    </tr>\n",
       "  </tbody>\n",
       "</table>\n",
       "<p>33819106 rows × 15 columns</p>\n",
       "</div>"
      ],
      "text/plain": [
       "          order_id  product_id  add_to_cart_order  reordered  \\\n",
       "0                1       49302                  1          1   \n",
       "1                1       11109                  2          1   \n",
       "2                1       10246                  3          0   \n",
       "3                1       49683                  4          0   \n",
       "4                1       43633                  5          1   \n",
       "...            ...         ...                ...        ...   \n",
       "33819101   3421083       39678                  6          1   \n",
       "33819102   3421083       11352                  7          0   \n",
       "33819103   3421083        4600                  8          0   \n",
       "33819104   3421083       24852                  9          1   \n",
       "33819105   3421083        5020                 10          1   \n",
       "\n",
       "                                               product_name  aisle_id  \\\n",
       "0                                          Bulgarian Yogurt       120   \n",
       "1             Organic 4% Milk Fat Whole Milk Cottage Cheese       108   \n",
       "2                                     Organic Celery Hearts        83   \n",
       "3                                            Cucumber Kirby        83   \n",
       "4                      Lightly Smoked Sardines in Olive Oil        95   \n",
       "...                                                     ...       ...   \n",
       "33819101          Free & Clear Natural Dishwasher Detergent        74   \n",
       "33819102       Organic Mini Sandwich Crackers Peanut Butter        78   \n",
       "33819103                    All Natural French Toast Sticks        52   \n",
       "33819104                                             Banana        24   \n",
       "33819105  Organic  Sweet & Salty Peanut Pretzel Granola ...         3   \n",
       "\n",
       "          department_id                 aisle    department  user_id eval_set  \\\n",
       "0                    16                yogurt    dairy eggs   112108    train   \n",
       "1                    16  other creams cheeses    dairy eggs   112108    train   \n",
       "2                     4      fresh vegetables       produce   112108    train   \n",
       "3                     4      fresh vegetables       produce   112108    train   \n",
       "4                    15   canned meat seafood  canned goods   112108    train   \n",
       "...                 ...                   ...           ...      ...      ...   \n",
       "33819101             17       dish detergents     household    25247    prior   \n",
       "33819102             19              crackers        snacks    25247    prior   \n",
       "33819103              1      frozen breakfast        frozen    25247    prior   \n",
       "33819104              4          fresh fruits       produce    25247    prior   \n",
       "33819105             19   energy granola bars        snacks    25247    prior   \n",
       "\n",
       "          order_number  order_dow  order_hour_of_day  days_since_prior_order  \n",
       "0                    4          4                 10                     9.0  \n",
       "1                    4          4                 10                     9.0  \n",
       "2                    4          4                 10                     9.0  \n",
       "3                    4          4                 10                     9.0  \n",
       "4                    4          4                 10                     9.0  \n",
       "...                ...        ...                ...                     ...  \n",
       "33819101            24          2                  6                    21.0  \n",
       "33819102            24          2                  6                    21.0  \n",
       "33819103            24          2                  6                    21.0  \n",
       "33819104            24          2                  6                    21.0  \n",
       "33819105            24          2                  6                    21.0  \n",
       "\n",
       "[33819106 rows x 15 columns]"
      ]
     },
     "execution_count": 23,
     "metadata": {},
     "output_type": "execute_result"
    }
   ],
   "source": [
    "order_products_merged_2 = order_products_merged.merge(products, on ='product_id', how='left')\n",
    "order_products_merged_2 = order_products_merged_2.merge(aisles, how ='left', on='aisle_id')\n",
    "order_products_merged_2 = order_products_merged_2.merge(departments, how ='left', on='department_id')\n",
    "order_products_merged_2 = order_products_merged_2.merge(orders, on='order_id', how='left')\n",
    "order_products_merged_2"
   ]
  },
  {
   "cell_type": "markdown",
   "id": "733af379",
   "metadata": {},
   "source": [
    "### EDA"
   ]
  },
  {
   "cell_type": "markdown",
   "id": "2347cb4b",
   "metadata": {},
   "source": [
    "#### Q1. How many percent of purchases are first purchase and how many are reorders?"
   ]
  },
  {
   "cell_type": "code",
   "execution_count": 24,
   "id": "a678b3ca",
   "metadata": {},
   "outputs": [
    {
     "data": {
      "text/html": [
       "<div>\n",
       "<style scoped>\n",
       "    .dataframe tbody tr th:only-of-type {\n",
       "        vertical-align: middle;\n",
       "    }\n",
       "\n",
       "    .dataframe tbody tr th {\n",
       "        vertical-align: top;\n",
       "    }\n",
       "\n",
       "    .dataframe thead th {\n",
       "        text-align: right;\n",
       "    }\n",
       "</style>\n",
       "<table border=\"1\" class=\"dataframe\">\n",
       "  <thead>\n",
       "    <tr style=\"text-align: right;\">\n",
       "      <th></th>\n",
       "      <th>order_id</th>\n",
       "      <th>product_id</th>\n",
       "      <th>add_to_cart_order</th>\n",
       "      <th>reordered</th>\n",
       "    </tr>\n",
       "  </thead>\n",
       "  <tbody>\n",
       "    <tr>\n",
       "      <th>0</th>\n",
       "      <td>1</td>\n",
       "      <td>49302</td>\n",
       "      <td>1</td>\n",
       "      <td>1</td>\n",
       "    </tr>\n",
       "    <tr>\n",
       "      <th>1</th>\n",
       "      <td>1</td>\n",
       "      <td>11109</td>\n",
       "      <td>2</td>\n",
       "      <td>1</td>\n",
       "    </tr>\n",
       "    <tr>\n",
       "      <th>2</th>\n",
       "      <td>1</td>\n",
       "      <td>10246</td>\n",
       "      <td>3</td>\n",
       "      <td>0</td>\n",
       "    </tr>\n",
       "    <tr>\n",
       "      <th>3</th>\n",
       "      <td>1</td>\n",
       "      <td>49683</td>\n",
       "      <td>4</td>\n",
       "      <td>0</td>\n",
       "    </tr>\n",
       "    <tr>\n",
       "      <th>4</th>\n",
       "      <td>1</td>\n",
       "      <td>43633</td>\n",
       "      <td>5</td>\n",
       "      <td>1</td>\n",
       "    </tr>\n",
       "    <tr>\n",
       "      <th>...</th>\n",
       "      <td>...</td>\n",
       "      <td>...</td>\n",
       "      <td>...</td>\n",
       "      <td>...</td>\n",
       "    </tr>\n",
       "    <tr>\n",
       "      <th>32434484</th>\n",
       "      <td>3421083</td>\n",
       "      <td>39678</td>\n",
       "      <td>6</td>\n",
       "      <td>1</td>\n",
       "    </tr>\n",
       "    <tr>\n",
       "      <th>32434485</th>\n",
       "      <td>3421083</td>\n",
       "      <td>11352</td>\n",
       "      <td>7</td>\n",
       "      <td>0</td>\n",
       "    </tr>\n",
       "    <tr>\n",
       "      <th>32434486</th>\n",
       "      <td>3421083</td>\n",
       "      <td>4600</td>\n",
       "      <td>8</td>\n",
       "      <td>0</td>\n",
       "    </tr>\n",
       "    <tr>\n",
       "      <th>32434487</th>\n",
       "      <td>3421083</td>\n",
       "      <td>24852</td>\n",
       "      <td>9</td>\n",
       "      <td>1</td>\n",
       "    </tr>\n",
       "    <tr>\n",
       "      <th>32434488</th>\n",
       "      <td>3421083</td>\n",
       "      <td>5020</td>\n",
       "      <td>10</td>\n",
       "      <td>1</td>\n",
       "    </tr>\n",
       "  </tbody>\n",
       "</table>\n",
       "<p>33819106 rows × 4 columns</p>\n",
       "</div>"
      ],
      "text/plain": [
       "          order_id  product_id  add_to_cart_order  reordered\n",
       "0                1       49302                  1          1\n",
       "1                1       11109                  2          1\n",
       "2                1       10246                  3          0\n",
       "3                1       49683                  4          0\n",
       "4                1       43633                  5          1\n",
       "...            ...         ...                ...        ...\n",
       "32434484   3421083       39678                  6          1\n",
       "32434485   3421083       11352                  7          0\n",
       "32434486   3421083        4600                  8          0\n",
       "32434487   3421083       24852                  9          1\n",
       "32434488   3421083        5020                 10          1\n",
       "\n",
       "[33819106 rows x 4 columns]"
      ]
     },
     "execution_count": 24,
     "metadata": {},
     "output_type": "execute_result"
    }
   ],
   "source": [
    "prior_train=pd.concat([order_products_train, order_products_prior])\n",
    "prior_train"
   ]
  },
  {
   "cell_type": "code",
   "execution_count": 25,
   "id": "7f9c73e0",
   "metadata": {},
   "outputs": [
    {
     "data": {
      "text/html": [
       "<div>\n",
       "<style scoped>\n",
       "    .dataframe tbody tr th:only-of-type {\n",
       "        vertical-align: middle;\n",
       "    }\n",
       "\n",
       "    .dataframe tbody tr th {\n",
       "        vertical-align: top;\n",
       "    }\n",
       "\n",
       "    .dataframe thead th {\n",
       "        text-align: right;\n",
       "    }\n",
       "</style>\n",
       "<table border=\"1\" class=\"dataframe\">\n",
       "  <thead>\n",
       "    <tr style=\"text-align: right;\">\n",
       "      <th></th>\n",
       "      <th>order_id</th>\n",
       "      <th>user_id</th>\n",
       "      <th>eval_set</th>\n",
       "      <th>order_number</th>\n",
       "      <th>order_dow</th>\n",
       "      <th>order_hour_of_day</th>\n",
       "      <th>days_since_prior_order</th>\n",
       "      <th>product_id</th>\n",
       "      <th>add_to_cart_order</th>\n",
       "      <th>reordered</th>\n",
       "    </tr>\n",
       "  </thead>\n",
       "  <tbody>\n",
       "    <tr>\n",
       "      <th>0</th>\n",
       "      <td>2539329</td>\n",
       "      <td>1</td>\n",
       "      <td>prior</td>\n",
       "      <td>1</td>\n",
       "      <td>2</td>\n",
       "      <td>8</td>\n",
       "      <td>0.0</td>\n",
       "      <td>196</td>\n",
       "      <td>1</td>\n",
       "      <td>0</td>\n",
       "    </tr>\n",
       "    <tr>\n",
       "      <th>1</th>\n",
       "      <td>2539329</td>\n",
       "      <td>1</td>\n",
       "      <td>prior</td>\n",
       "      <td>1</td>\n",
       "      <td>2</td>\n",
       "      <td>8</td>\n",
       "      <td>0.0</td>\n",
       "      <td>14084</td>\n",
       "      <td>2</td>\n",
       "      <td>0</td>\n",
       "    </tr>\n",
       "    <tr>\n",
       "      <th>2</th>\n",
       "      <td>2539329</td>\n",
       "      <td>1</td>\n",
       "      <td>prior</td>\n",
       "      <td>1</td>\n",
       "      <td>2</td>\n",
       "      <td>8</td>\n",
       "      <td>0.0</td>\n",
       "      <td>12427</td>\n",
       "      <td>3</td>\n",
       "      <td>0</td>\n",
       "    </tr>\n",
       "    <tr>\n",
       "      <th>3</th>\n",
       "      <td>2539329</td>\n",
       "      <td>1</td>\n",
       "      <td>prior</td>\n",
       "      <td>1</td>\n",
       "      <td>2</td>\n",
       "      <td>8</td>\n",
       "      <td>0.0</td>\n",
       "      <td>26088</td>\n",
       "      <td>4</td>\n",
       "      <td>0</td>\n",
       "    </tr>\n",
       "    <tr>\n",
       "      <th>4</th>\n",
       "      <td>2539329</td>\n",
       "      <td>1</td>\n",
       "      <td>prior</td>\n",
       "      <td>1</td>\n",
       "      <td>2</td>\n",
       "      <td>8</td>\n",
       "      <td>0.0</td>\n",
       "      <td>26405</td>\n",
       "      <td>5</td>\n",
       "      <td>0</td>\n",
       "    </tr>\n",
       "    <tr>\n",
       "      <th>...</th>\n",
       "      <td>...</td>\n",
       "      <td>...</td>\n",
       "      <td>...</td>\n",
       "      <td>...</td>\n",
       "      <td>...</td>\n",
       "      <td>...</td>\n",
       "      <td>...</td>\n",
       "      <td>...</td>\n",
       "      <td>...</td>\n",
       "      <td>...</td>\n",
       "    </tr>\n",
       "    <tr>\n",
       "      <th>33819101</th>\n",
       "      <td>272231</td>\n",
       "      <td>206209</td>\n",
       "      <td>train</td>\n",
       "      <td>14</td>\n",
       "      <td>6</td>\n",
       "      <td>14</td>\n",
       "      <td>30.0</td>\n",
       "      <td>40603</td>\n",
       "      <td>4</td>\n",
       "      <td>0</td>\n",
       "    </tr>\n",
       "    <tr>\n",
       "      <th>33819102</th>\n",
       "      <td>272231</td>\n",
       "      <td>206209</td>\n",
       "      <td>train</td>\n",
       "      <td>14</td>\n",
       "      <td>6</td>\n",
       "      <td>14</td>\n",
       "      <td>30.0</td>\n",
       "      <td>15655</td>\n",
       "      <td>5</td>\n",
       "      <td>0</td>\n",
       "    </tr>\n",
       "    <tr>\n",
       "      <th>33819103</th>\n",
       "      <td>272231</td>\n",
       "      <td>206209</td>\n",
       "      <td>train</td>\n",
       "      <td>14</td>\n",
       "      <td>6</td>\n",
       "      <td>14</td>\n",
       "      <td>30.0</td>\n",
       "      <td>42606</td>\n",
       "      <td>6</td>\n",
       "      <td>0</td>\n",
       "    </tr>\n",
       "    <tr>\n",
       "      <th>33819104</th>\n",
       "      <td>272231</td>\n",
       "      <td>206209</td>\n",
       "      <td>train</td>\n",
       "      <td>14</td>\n",
       "      <td>6</td>\n",
       "      <td>14</td>\n",
       "      <td>30.0</td>\n",
       "      <td>37966</td>\n",
       "      <td>7</td>\n",
       "      <td>0</td>\n",
       "    </tr>\n",
       "    <tr>\n",
       "      <th>33819105</th>\n",
       "      <td>272231</td>\n",
       "      <td>206209</td>\n",
       "      <td>train</td>\n",
       "      <td>14</td>\n",
       "      <td>6</td>\n",
       "      <td>14</td>\n",
       "      <td>30.0</td>\n",
       "      <td>39216</td>\n",
       "      <td>8</td>\n",
       "      <td>1</td>\n",
       "    </tr>\n",
       "  </tbody>\n",
       "</table>\n",
       "<p>33819106 rows × 10 columns</p>\n",
       "</div>"
      ],
      "text/plain": [
       "          order_id  user_id eval_set  order_number  order_dow  \\\n",
       "0          2539329        1    prior             1          2   \n",
       "1          2539329        1    prior             1          2   \n",
       "2          2539329        1    prior             1          2   \n",
       "3          2539329        1    prior             1          2   \n",
       "4          2539329        1    prior             1          2   \n",
       "...            ...      ...      ...           ...        ...   \n",
       "33819101    272231   206209    train            14          6   \n",
       "33819102    272231   206209    train            14          6   \n",
       "33819103    272231   206209    train            14          6   \n",
       "33819104    272231   206209    train            14          6   \n",
       "33819105    272231   206209    train            14          6   \n",
       "\n",
       "          order_hour_of_day  days_since_prior_order  product_id  \\\n",
       "0                         8                     0.0         196   \n",
       "1                         8                     0.0       14084   \n",
       "2                         8                     0.0       12427   \n",
       "3                         8                     0.0       26088   \n",
       "4                         8                     0.0       26405   \n",
       "...                     ...                     ...         ...   \n",
       "33819101                 14                    30.0       40603   \n",
       "33819102                 14                    30.0       15655   \n",
       "33819103                 14                    30.0       42606   \n",
       "33819104                 14                    30.0       37966   \n",
       "33819105                 14                    30.0       39216   \n",
       "\n",
       "          add_to_cart_order  reordered  \n",
       "0                         1          0  \n",
       "1                         2          0  \n",
       "2                         3          0  \n",
       "3                         4          0  \n",
       "4                         5          0  \n",
       "...                     ...        ...  \n",
       "33819101                  4          0  \n",
       "33819102                  5          0  \n",
       "33819103                  6          0  \n",
       "33819104                  7          0  \n",
       "33819105                  8          1  \n",
       "\n",
       "[33819106 rows x 10 columns]"
      ]
     },
     "execution_count": 25,
     "metadata": {},
     "output_type": "execute_result"
    }
   ],
   "source": [
    "data=orders.merge(prior_train, on='order_id')\n",
    "data"
   ]
  },
  {
   "cell_type": "code",
   "execution_count": 26,
   "id": "39eba2b7",
   "metadata": {},
   "outputs": [
    {
     "data": {
      "text/html": [
       "<div>\n",
       "<style scoped>\n",
       "    .dataframe tbody tr th:only-of-type {\n",
       "        vertical-align: middle;\n",
       "    }\n",
       "\n",
       "    .dataframe tbody tr th {\n",
       "        vertical-align: top;\n",
       "    }\n",
       "\n",
       "    .dataframe thead th {\n",
       "        text-align: right;\n",
       "    }\n",
       "</style>\n",
       "<table border=\"1\" class=\"dataframe\">\n",
       "  <thead>\n",
       "    <tr style=\"text-align: right;\">\n",
       "      <th></th>\n",
       "      <th>product_id</th>\n",
       "      <th>product_name</th>\n",
       "      <th>aisle_id</th>\n",
       "      <th>department_id</th>\n",
       "      <th>department</th>\n",
       "      <th>aisle</th>\n",
       "    </tr>\n",
       "  </thead>\n",
       "  <tbody>\n",
       "    <tr>\n",
       "      <th>0</th>\n",
       "      <td>1</td>\n",
       "      <td>Chocolate Sandwich Cookies</td>\n",
       "      <td>61</td>\n",
       "      <td>19</td>\n",
       "      <td>snacks</td>\n",
       "      <td>cookies cakes</td>\n",
       "    </tr>\n",
       "    <tr>\n",
       "      <th>1</th>\n",
       "      <td>78</td>\n",
       "      <td>Nutter Butter Cookie Bites Go-Pak</td>\n",
       "      <td>61</td>\n",
       "      <td>19</td>\n",
       "      <td>snacks</td>\n",
       "      <td>cookies cakes</td>\n",
       "    </tr>\n",
       "    <tr>\n",
       "      <th>2</th>\n",
       "      <td>102</td>\n",
       "      <td>Danish Butter Cookies</td>\n",
       "      <td>61</td>\n",
       "      <td>19</td>\n",
       "      <td>snacks</td>\n",
       "      <td>cookies cakes</td>\n",
       "    </tr>\n",
       "    <tr>\n",
       "      <th>3</th>\n",
       "      <td>172</td>\n",
       "      <td>Gluten Free All Natural Chocolate Chip Cookies</td>\n",
       "      <td>61</td>\n",
       "      <td>19</td>\n",
       "      <td>snacks</td>\n",
       "      <td>cookies cakes</td>\n",
       "    </tr>\n",
       "    <tr>\n",
       "      <th>4</th>\n",
       "      <td>285</td>\n",
       "      <td>Mini Nilla Wafers Munch Pack</td>\n",
       "      <td>61</td>\n",
       "      <td>19</td>\n",
       "      <td>snacks</td>\n",
       "      <td>cookies cakes</td>\n",
       "    </tr>\n",
       "    <tr>\n",
       "      <th>...</th>\n",
       "      <td>...</td>\n",
       "      <td>...</td>\n",
       "      <td>...</td>\n",
       "      <td>...</td>\n",
       "      <td>...</td>\n",
       "      <td>...</td>\n",
       "    </tr>\n",
       "    <tr>\n",
       "      <th>49683</th>\n",
       "      <td>22827</td>\n",
       "      <td>Organic Black Mission Figs</td>\n",
       "      <td>18</td>\n",
       "      <td>10</td>\n",
       "      <td>bulk</td>\n",
       "      <td>bulk dried fruits vegetables</td>\n",
       "    </tr>\n",
       "    <tr>\n",
       "      <th>49684</th>\n",
       "      <td>28655</td>\n",
       "      <td>Crystallized Ginger Chunks</td>\n",
       "      <td>18</td>\n",
       "      <td>10</td>\n",
       "      <td>bulk</td>\n",
       "      <td>bulk dried fruits vegetables</td>\n",
       "    </tr>\n",
       "    <tr>\n",
       "      <th>49685</th>\n",
       "      <td>30365</td>\n",
       "      <td>Vegetable Chips</td>\n",
       "      <td>18</td>\n",
       "      <td>10</td>\n",
       "      <td>bulk</td>\n",
       "      <td>bulk dried fruits vegetables</td>\n",
       "    </tr>\n",
       "    <tr>\n",
       "      <th>49686</th>\n",
       "      <td>38007</td>\n",
       "      <td>Naturally Sweet Plantain Chips</td>\n",
       "      <td>18</td>\n",
       "      <td>10</td>\n",
       "      <td>bulk</td>\n",
       "      <td>bulk dried fruits vegetables</td>\n",
       "    </tr>\n",
       "    <tr>\n",
       "      <th>49687</th>\n",
       "      <td>48778</td>\n",
       "      <td>Fit Super A Juice, Cold Pressed, Carrot/Apple/...</td>\n",
       "      <td>18</td>\n",
       "      <td>10</td>\n",
       "      <td>bulk</td>\n",
       "      <td>bulk dried fruits vegetables</td>\n",
       "    </tr>\n",
       "  </tbody>\n",
       "</table>\n",
       "<p>49688 rows × 6 columns</p>\n",
       "</div>"
      ],
      "text/plain": [
       "       product_id                                       product_name  \\\n",
       "0               1                         Chocolate Sandwich Cookies   \n",
       "1              78                  Nutter Butter Cookie Bites Go-Pak   \n",
       "2             102                              Danish Butter Cookies   \n",
       "3             172     Gluten Free All Natural Chocolate Chip Cookies   \n",
       "4             285                       Mini Nilla Wafers Munch Pack   \n",
       "...           ...                                                ...   \n",
       "49683       22827                         Organic Black Mission Figs   \n",
       "49684       28655                         Crystallized Ginger Chunks   \n",
       "49685       30365                                    Vegetable Chips   \n",
       "49686       38007                     Naturally Sweet Plantain Chips   \n",
       "49687       48778  Fit Super A Juice, Cold Pressed, Carrot/Apple/...   \n",
       "\n",
       "       aisle_id  department_id department                         aisle  \n",
       "0            61             19     snacks                 cookies cakes  \n",
       "1            61             19     snacks                 cookies cakes  \n",
       "2            61             19     snacks                 cookies cakes  \n",
       "3            61             19     snacks                 cookies cakes  \n",
       "4            61             19     snacks                 cookies cakes  \n",
       "...         ...            ...        ...                           ...  \n",
       "49683        18             10       bulk  bulk dried fruits vegetables  \n",
       "49684        18             10       bulk  bulk dried fruits vegetables  \n",
       "49685        18             10       bulk  bulk dried fruits vegetables  \n",
       "49686        18             10       bulk  bulk dried fruits vegetables  \n",
       "49687        18             10       bulk  bulk dried fruits vegetables  \n",
       "\n",
       "[49688 rows x 6 columns]"
      ]
     },
     "execution_count": 26,
     "metadata": {},
     "output_type": "execute_result"
    }
   ],
   "source": [
    "prod_info = products.merge(departments,on='department_id').merge(aisles,on='aisle_id')\n",
    "prod_info"
   ]
  },
  {
   "cell_type": "code",
   "execution_count": 27,
   "id": "b978cd08",
   "metadata": {},
   "outputs": [
    {
     "data": {
      "text/plain": [
       "19955360"
      ]
     },
     "execution_count": 27,
     "metadata": {},
     "output_type": "execute_result"
    }
   ],
   "source": [
    "reordered_orders=data[data.reordered==1]\n",
    "reordered_count=len(reordered_orders.index)\n",
    "reordered_count"
   ]
  },
  {
   "cell_type": "code",
   "execution_count": 28,
   "id": "08ffd01f",
   "metadata": {},
   "outputs": [
    {
     "data": {
      "text/plain": [
       "13863746"
      ]
     },
     "execution_count": 28,
     "metadata": {},
     "output_type": "execute_result"
    }
   ],
   "source": [
    "non_reordered_orders=data[data.reordered==0]\n",
    "non_reordered_count=len(non_reordered_orders.index)\n",
    "non_reordered_count"
   ]
  },
  {
   "cell_type": "code",
   "execution_count": 29,
   "id": "8375c37c",
   "metadata": {},
   "outputs": [
    {
     "data": {
      "text/plain": [
       "40.993827571905655"
      ]
     },
     "execution_count": 29,
     "metadata": {},
     "output_type": "execute_result"
    }
   ],
   "source": [
    "order_percentage=100*(non_reordered_count/(reordered_count+non_reordered_count))\n",
    "order_percentage"
   ]
  },
  {
   "cell_type": "code",
   "execution_count": 30,
   "id": "5345e550",
   "metadata": {},
   "outputs": [
    {
     "data": {
      "text/plain": [
       "59.00617242809434"
      ]
     },
     "execution_count": 30,
     "metadata": {},
     "output_type": "execute_result"
    }
   ],
   "source": [
    "percentage=100*(reordered_count/(reordered_count+non_reordered_count))\n",
    "percentage"
   ]
  },
  {
   "cell_type": "code",
   "execution_count": 31,
   "id": "3a067832",
   "metadata": {},
   "outputs": [
    {
     "data": {
      "image/png": "[encoded data removed]",
      "text/plain": [
       "<Figure size 640x480 with 1 Axes>"
      ]
     },
     "metadata": {},
     "output_type": "display_data"
    }
   ],
   "source": [
    "labels = 'Reorder','First Puchase'\n",
    "\n",
    "plt.pie([percentage,100-percentage], labels=labels, colors=['c', 'g'], startangle=90, shadow=True, autopct = '%1.2f%%')\n",
    "plt.axis('equal')\n",
    "plt.title('Purchases.');"
   ]
  },
  {
   "cell_type": "markdown",
   "id": "9a11f2d1",
   "metadata": {},
   "source": [
    "#### Q1. How many users placed n number of orders?"
   ]
  },
  {
   "cell_type": "code",
   "execution_count": 32,
   "id": "1fcac3ca",
   "metadata": {},
   "outputs": [],
   "source": [
    "orders_per_user = orders.groupby('user_id').size().sort_values().reset_index()\n"
   ]
  },
  {
   "cell_type": "code",
   "execution_count": 33,
   "id": "566dd274",
   "metadata": {},
   "outputs": [
    {
     "data": {
      "text/html": [
       "<div>\n",
       "<style scoped>\n",
       "    .dataframe tbody tr th:only-of-type {\n",
       "        vertical-align: middle;\n",
       "    }\n",
       "\n",
       "    .dataframe tbody tr th {\n",
       "        vertical-align: top;\n",
       "    }\n",
       "\n",
       "    .dataframe thead th {\n",
       "        text-align: right;\n",
       "    }\n",
       "</style>\n",
       "<table border=\"1\" class=\"dataframe\">\n",
       "  <thead>\n",
       "    <tr style=\"text-align: right;\">\n",
       "      <th></th>\n",
       "      <th>user_id</th>\n",
       "      <th>0</th>\n",
       "    </tr>\n",
       "  </thead>\n",
       "  <tbody>\n",
       "    <tr>\n",
       "      <th>0</th>\n",
       "      <td>127633</td>\n",
       "      <td>4</td>\n",
       "    </tr>\n",
       "    <tr>\n",
       "      <th>1</th>\n",
       "      <td>74147</td>\n",
       "      <td>4</td>\n",
       "    </tr>\n",
       "    <tr>\n",
       "      <th>2</th>\n",
       "      <td>160570</td>\n",
       "      <td>4</td>\n",
       "    </tr>\n",
       "    <tr>\n",
       "      <th>3</th>\n",
       "      <td>160560</td>\n",
       "      <td>4</td>\n",
       "    </tr>\n",
       "    <tr>\n",
       "      <th>4</th>\n",
       "      <td>74171</td>\n",
       "      <td>4</td>\n",
       "    </tr>\n",
       "    <tr>\n",
       "      <th>...</th>\n",
       "      <td>...</td>\n",
       "      <td>...</td>\n",
       "    </tr>\n",
       "    <tr>\n",
       "      <th>206204</th>\n",
       "      <td>1868</td>\n",
       "      <td>100</td>\n",
       "    </tr>\n",
       "    <tr>\n",
       "      <th>206205</th>\n",
       "      <td>31118</td>\n",
       "      <td>100</td>\n",
       "    </tr>\n",
       "    <tr>\n",
       "      <th>206206</th>\n",
       "      <td>122476</td>\n",
       "      <td>100</td>\n",
       "    </tr>\n",
       "    <tr>\n",
       "      <th>206207</th>\n",
       "      <td>120897</td>\n",
       "      <td>100</td>\n",
       "    </tr>\n",
       "    <tr>\n",
       "      <th>206208</th>\n",
       "      <td>26086</td>\n",
       "      <td>100</td>\n",
       "    </tr>\n",
       "  </tbody>\n",
       "</table>\n",
       "<p>206209 rows × 2 columns</p>\n",
       "</div>"
      ],
      "text/plain": [
       "        user_id    0\n",
       "0        127633    4\n",
       "1         74147    4\n",
       "2        160570    4\n",
       "3        160560    4\n",
       "4         74171    4\n",
       "...         ...  ...\n",
       "206204     1868  100\n",
       "206205    31118  100\n",
       "206206   122476  100\n",
       "206207   120897  100\n",
       "206208    26086  100\n",
       "\n",
       "[206209 rows x 2 columns]"
      ]
     },
     "execution_count": 33,
     "metadata": {},
     "output_type": "execute_result"
    }
   ],
   "source": [
    "orders_per_user"
   ]
  },
  {
   "cell_type": "code",
   "execution_count": 34,
   "id": "3c467e74",
   "metadata": {},
   "outputs": [
    {
     "data": {
      "text/plain": [
       "<AxesSubplot:ylabel='count'>"
      ]
     },
     "execution_count": 34,
     "metadata": {},
     "output_type": "execute_result"
    },
    {
     "data": {
      "image/png": "[encoded data removed]",
      "text/plain": [
       "<Figure size 2000x500 with 1 Axes>"
      ]
     },
     "metadata": {},
     "output_type": "display_data"
    }
   ],
   "source": [
    "fig, axis=plt.subplots(figsize=(20,5))\n",
    "sns.countplot(data=orders_per_user, x=orders.groupby('user_id').size(), ax=axis)\n"
   ]
  },
  {
   "cell_type": "code",
   "execution_count": 35,
   "id": "ba9eb46e",
   "metadata": {},
   "outputs": [
    {
     "data": {
      "text/html": [
       "<div>\n",
       "<style scoped>\n",
       "    .dataframe tbody tr th:only-of-type {\n",
       "        vertical-align: middle;\n",
       "    }\n",
       "\n",
       "    .dataframe tbody tr th {\n",
       "        vertical-align: top;\n",
       "    }\n",
       "\n",
       "    .dataframe thead th {\n",
       "        text-align: right;\n",
       "    }\n",
       "</style>\n",
       "<table border=\"1\" class=\"dataframe\">\n",
       "  <thead>\n",
       "    <tr style=\"text-align: right;\">\n",
       "      <th></th>\n",
       "      <th>user_id</th>\n",
       "      <th>0</th>\n",
       "    </tr>\n",
       "  </thead>\n",
       "  <tbody>\n",
       "    <tr>\n",
       "      <th>0</th>\n",
       "      <td>127633</td>\n",
       "      <td>4</td>\n",
       "    </tr>\n",
       "    <tr>\n",
       "      <th>1</th>\n",
       "      <td>74147</td>\n",
       "      <td>4</td>\n",
       "    </tr>\n",
       "    <tr>\n",
       "      <th>2</th>\n",
       "      <td>160570</td>\n",
       "      <td>4</td>\n",
       "    </tr>\n",
       "    <tr>\n",
       "      <th>3</th>\n",
       "      <td>160560</td>\n",
       "      <td>4</td>\n",
       "    </tr>\n",
       "    <tr>\n",
       "      <th>4</th>\n",
       "      <td>74171</td>\n",
       "      <td>4</td>\n",
       "    </tr>\n",
       "    <tr>\n",
       "      <th>...</th>\n",
       "      <td>...</td>\n",
       "      <td>...</td>\n",
       "    </tr>\n",
       "    <tr>\n",
       "      <th>206204</th>\n",
       "      <td>1868</td>\n",
       "      <td>100</td>\n",
       "    </tr>\n",
       "    <tr>\n",
       "      <th>206205</th>\n",
       "      <td>31118</td>\n",
       "      <td>100</td>\n",
       "    </tr>\n",
       "    <tr>\n",
       "      <th>206206</th>\n",
       "      <td>122476</td>\n",
       "      <td>100</td>\n",
       "    </tr>\n",
       "    <tr>\n",
       "      <th>206207</th>\n",
       "      <td>120897</td>\n",
       "      <td>100</td>\n",
       "    </tr>\n",
       "    <tr>\n",
       "      <th>206208</th>\n",
       "      <td>26086</td>\n",
       "      <td>100</td>\n",
       "    </tr>\n",
       "  </tbody>\n",
       "</table>\n",
       "<p>206209 rows × 2 columns</p>\n",
       "</div>"
      ],
      "text/plain": [
       "        user_id    0\n",
       "0        127633    4\n",
       "1         74147    4\n",
       "2        160570    4\n",
       "3        160560    4\n",
       "4         74171    4\n",
       "...         ...  ...\n",
       "206204     1868  100\n",
       "206205    31118  100\n",
       "206206   122476  100\n",
       "206207   120897  100\n",
       "206208    26086  100\n",
       "\n",
       "[206209 rows x 2 columns]"
      ]
     },
     "execution_count": 35,
     "metadata": {},
     "output_type": "execute_result"
    }
   ],
   "source": [
    "orders.groupby('user_id').size().sort_values().reset_index()"
   ]
  },
  {
   "cell_type": "markdown",
   "id": "4ce7a197",
   "metadata": {},
   "source": [
    "#### Q2: How many Orders with no reordered products ?"
   ]
  },
  {
   "cell_type": "code",
   "execution_count": 36,
   "id": "fd8c2f88",
   "metadata": {},
   "outputs": [],
   "source": [
    "orders_count=prior_train.groupby(['order_id'])['reordered'].sum().reset_index(name='counts')"
   ]
  },
  {
   "cell_type": "code",
   "execution_count": 37,
   "id": "27c0d784",
   "metadata": {},
   "outputs": [],
   "source": [
    "order_with_reordered_items=sum(orders_count['counts']!=0)"
   ]
  },
  {
   "cell_type": "code",
   "execution_count": 38,
   "id": "63e2cfca",
   "metadata": {},
   "outputs": [
    {
     "data": {
      "text/plain": [
       "0.8813194412690899"
      ]
     },
     "execution_count": 38,
     "metadata": {},
     "output_type": "execute_result"
    }
   ],
   "source": [
    "order_with_reordered_items/prior_train['order_id'].nunique()"
   ]
  },
  {
   "cell_type": "code",
   "execution_count": 39,
   "id": "688d7edb",
   "metadata": {},
   "outputs": [],
   "source": [
    "order_with_no_reordered_items=sum(orders_count['counts']==0)"
   ]
  },
  {
   "cell_type": "code",
   "execution_count": 40,
   "id": "49293540",
   "metadata": {},
   "outputs": [
    {
     "data": {
      "text/plain": [
       "0.11868055873091014"
      ]
     },
     "execution_count": 40,
     "metadata": {},
     "output_type": "execute_result"
    }
   ],
   "source": [
    "order_with_no_reordered_items/prior_train['order_id'].nunique()"
   ]
  },
  {
   "cell_type": "code",
   "execution_count": 41,
   "id": "a998d83c",
   "metadata": {},
   "outputs": [
    {
     "data": {
      "text/plain": [
       "order_id\n",
       "1           4\n",
       "2           6\n",
       "3           8\n",
       "4          12\n",
       "5          21\n",
       "           ..\n",
       "3421079     0\n",
       "3421080     4\n",
       "3421081     0\n",
       "3421082     4\n",
       "3421083     4\n",
       "Name: reordered, Length: 3346083, dtype: int64"
      ]
     },
     "execution_count": 41,
     "metadata": {},
     "output_type": "execute_result"
    }
   ],
   "source": [
    "prior_train.groupby(['order_id'])['reordered'].sum()"
   ]
  },
  {
   "cell_type": "code",
   "execution_count": 42,
   "id": "d34172af",
   "metadata": {},
   "outputs": [
    {
     "data": {
      "text/html": [
       "<div>\n",
       "<style scoped>\n",
       "    .dataframe tbody tr th:only-of-type {\n",
       "        vertical-align: middle;\n",
       "    }\n",
       "\n",
       "    .dataframe tbody tr th {\n",
       "        vertical-align: top;\n",
       "    }\n",
       "\n",
       "    .dataframe thead th {\n",
       "        text-align: right;\n",
       "    }\n",
       "</style>\n",
       "<table border=\"1\" class=\"dataframe\">\n",
       "  <thead>\n",
       "    <tr style=\"text-align: right;\">\n",
       "      <th></th>\n",
       "      <th>order_id</th>\n",
       "      <th>counts</th>\n",
       "    </tr>\n",
       "  </thead>\n",
       "  <tbody>\n",
       "    <tr>\n",
       "      <th>0</th>\n",
       "      <td>1</td>\n",
       "      <td>4</td>\n",
       "    </tr>\n",
       "    <tr>\n",
       "      <th>1</th>\n",
       "      <td>2</td>\n",
       "      <td>6</td>\n",
       "    </tr>\n",
       "    <tr>\n",
       "      <th>2</th>\n",
       "      <td>3</td>\n",
       "      <td>8</td>\n",
       "    </tr>\n",
       "    <tr>\n",
       "      <th>3</th>\n",
       "      <td>4</td>\n",
       "      <td>12</td>\n",
       "    </tr>\n",
       "    <tr>\n",
       "      <th>4</th>\n",
       "      <td>5</td>\n",
       "      <td>21</td>\n",
       "    </tr>\n",
       "    <tr>\n",
       "      <th>...</th>\n",
       "      <td>...</td>\n",
       "      <td>...</td>\n",
       "    </tr>\n",
       "    <tr>\n",
       "      <th>3346078</th>\n",
       "      <td>3421079</td>\n",
       "      <td>0</td>\n",
       "    </tr>\n",
       "    <tr>\n",
       "      <th>3346079</th>\n",
       "      <td>3421080</td>\n",
       "      <td>4</td>\n",
       "    </tr>\n",
       "    <tr>\n",
       "      <th>3346080</th>\n",
       "      <td>3421081</td>\n",
       "      <td>0</td>\n",
       "    </tr>\n",
       "    <tr>\n",
       "      <th>3346081</th>\n",
       "      <td>3421082</td>\n",
       "      <td>4</td>\n",
       "    </tr>\n",
       "    <tr>\n",
       "      <th>3346082</th>\n",
       "      <td>3421083</td>\n",
       "      <td>4</td>\n",
       "    </tr>\n",
       "  </tbody>\n",
       "</table>\n",
       "<p>3346083 rows × 2 columns</p>\n",
       "</div>"
      ],
      "text/plain": [
       "         order_id  counts\n",
       "0               1       4\n",
       "1               2       6\n",
       "2               3       8\n",
       "3               4      12\n",
       "4               5      21\n",
       "...           ...     ...\n",
       "3346078   3421079       0\n",
       "3346079   3421080       4\n",
       "3346080   3421081       0\n",
       "3346081   3421082       4\n",
       "3346082   3421083       4\n",
       "\n",
       "[3346083 rows x 2 columns]"
      ]
     },
     "execution_count": 42,
     "metadata": {},
     "output_type": "execute_result"
    }
   ],
   "source": [
    "orders_count"
   ]
  },
  {
   "cell_type": "markdown",
   "id": "4b7b784d",
   "metadata": {},
   "source": [
    "#### Q3. Which are the most frequently ordered / reordered products ?"
   ]
  },
  {
   "cell_type": "code",
   "execution_count": 43,
   "id": "ee03b68b",
   "metadata": {},
   "outputs": [
    {
     "data": {
      "text/html": [
       "<div>\n",
       "<style scoped>\n",
       "    .dataframe tbody tr th:only-of-type {\n",
       "        vertical-align: middle;\n",
       "    }\n",
       "\n",
       "    .dataframe tbody tr th {\n",
       "        vertical-align: top;\n",
       "    }\n",
       "\n",
       "    .dataframe thead th {\n",
       "        text-align: right;\n",
       "    }\n",
       "</style>\n",
       "<table border=\"1\" class=\"dataframe\">\n",
       "  <thead>\n",
       "    <tr style=\"text-align: right;\">\n",
       "      <th></th>\n",
       "      <th>order_id</th>\n",
       "      <th>product_id</th>\n",
       "      <th>add_to_cart_order</th>\n",
       "      <th>reordered</th>\n",
       "      <th>product_name</th>\n",
       "      <th>aisle_id</th>\n",
       "      <th>department_id</th>\n",
       "      <th>aisle</th>\n",
       "      <th>department</th>\n",
       "      <th>user_id</th>\n",
       "      <th>eval_set</th>\n",
       "      <th>order_number</th>\n",
       "      <th>order_dow</th>\n",
       "      <th>order_hour_of_day</th>\n",
       "      <th>days_since_prior_order</th>\n",
       "    </tr>\n",
       "  </thead>\n",
       "  <tbody>\n",
       "    <tr>\n",
       "      <th>0</th>\n",
       "      <td>2</td>\n",
       "      <td>33120</td>\n",
       "      <td>1</td>\n",
       "      <td>1</td>\n",
       "      <td>Organic Egg Whites</td>\n",
       "      <td>86</td>\n",
       "      <td>16</td>\n",
       "      <td>eggs</td>\n",
       "      <td>dairy eggs</td>\n",
       "      <td>202279</td>\n",
       "      <td>prior</td>\n",
       "      <td>3</td>\n",
       "      <td>5</td>\n",
       "      <td>9</td>\n",
       "      <td>8.0</td>\n",
       "    </tr>\n",
       "    <tr>\n",
       "      <th>1</th>\n",
       "      <td>2</td>\n",
       "      <td>28985</td>\n",
       "      <td>2</td>\n",
       "      <td>1</td>\n",
       "      <td>Michigan Organic Kale</td>\n",
       "      <td>83</td>\n",
       "      <td>4</td>\n",
       "      <td>fresh vegetables</td>\n",
       "      <td>produce</td>\n",
       "      <td>202279</td>\n",
       "      <td>prior</td>\n",
       "      <td>3</td>\n",
       "      <td>5</td>\n",
       "      <td>9</td>\n",
       "      <td>8.0</td>\n",
       "    </tr>\n",
       "    <tr>\n",
       "      <th>2</th>\n",
       "      <td>2</td>\n",
       "      <td>9327</td>\n",
       "      <td>3</td>\n",
       "      <td>0</td>\n",
       "      <td>Garlic Powder</td>\n",
       "      <td>104</td>\n",
       "      <td>13</td>\n",
       "      <td>spices seasonings</td>\n",
       "      <td>pantry</td>\n",
       "      <td>202279</td>\n",
       "      <td>prior</td>\n",
       "      <td>3</td>\n",
       "      <td>5</td>\n",
       "      <td>9</td>\n",
       "      <td>8.0</td>\n",
       "    </tr>\n",
       "    <tr>\n",
       "      <th>3</th>\n",
       "      <td>2</td>\n",
       "      <td>45918</td>\n",
       "      <td>4</td>\n",
       "      <td>1</td>\n",
       "      <td>Coconut Butter</td>\n",
       "      <td>19</td>\n",
       "      <td>13</td>\n",
       "      <td>oils vinegars</td>\n",
       "      <td>pantry</td>\n",
       "      <td>202279</td>\n",
       "      <td>prior</td>\n",
       "      <td>3</td>\n",
       "      <td>5</td>\n",
       "      <td>9</td>\n",
       "      <td>8.0</td>\n",
       "    </tr>\n",
       "    <tr>\n",
       "      <th>4</th>\n",
       "      <td>2</td>\n",
       "      <td>30035</td>\n",
       "      <td>5</td>\n",
       "      <td>0</td>\n",
       "      <td>Natural Sweetener</td>\n",
       "      <td>17</td>\n",
       "      <td>13</td>\n",
       "      <td>baking ingredients</td>\n",
       "      <td>pantry</td>\n",
       "      <td>202279</td>\n",
       "      <td>prior</td>\n",
       "      <td>3</td>\n",
       "      <td>5</td>\n",
       "      <td>9</td>\n",
       "      <td>8.0</td>\n",
       "    </tr>\n",
       "    <tr>\n",
       "      <th>...</th>\n",
       "      <td>...</td>\n",
       "      <td>...</td>\n",
       "      <td>...</td>\n",
       "      <td>...</td>\n",
       "      <td>...</td>\n",
       "      <td>...</td>\n",
       "      <td>...</td>\n",
       "      <td>...</td>\n",
       "      <td>...</td>\n",
       "      <td>...</td>\n",
       "      <td>...</td>\n",
       "      <td>...</td>\n",
       "      <td>...</td>\n",
       "      <td>...</td>\n",
       "      <td>...</td>\n",
       "    </tr>\n",
       "    <tr>\n",
       "      <th>33819101</th>\n",
       "      <td>3421063</td>\n",
       "      <td>14233</td>\n",
       "      <td>3</td>\n",
       "      <td>1</td>\n",
       "      <td>Natural Artesian Water</td>\n",
       "      <td>115</td>\n",
       "      <td>7</td>\n",
       "      <td>water seltzer sparkling water</td>\n",
       "      <td>beverages</td>\n",
       "      <td>169679</td>\n",
       "      <td>train</td>\n",
       "      <td>30</td>\n",
       "      <td>0</td>\n",
       "      <td>10</td>\n",
       "      <td>4.0</td>\n",
       "    </tr>\n",
       "    <tr>\n",
       "      <th>33819102</th>\n",
       "      <td>3421063</td>\n",
       "      <td>35548</td>\n",
       "      <td>4</td>\n",
       "      <td>1</td>\n",
       "      <td>Twice Baked Potatoes</td>\n",
       "      <td>13</td>\n",
       "      <td>20</td>\n",
       "      <td>prepared meals</td>\n",
       "      <td>deli</td>\n",
       "      <td>169679</td>\n",
       "      <td>train</td>\n",
       "      <td>30</td>\n",
       "      <td>0</td>\n",
       "      <td>10</td>\n",
       "      <td>4.0</td>\n",
       "    </tr>\n",
       "    <tr>\n",
       "      <th>33819103</th>\n",
       "      <td>3421070</td>\n",
       "      <td>35951</td>\n",
       "      <td>1</td>\n",
       "      <td>1</td>\n",
       "      <td>Organic Unsweetened Almond Milk</td>\n",
       "      <td>91</td>\n",
       "      <td>16</td>\n",
       "      <td>soy lactosefree</td>\n",
       "      <td>dairy eggs</td>\n",
       "      <td>139822</td>\n",
       "      <td>train</td>\n",
       "      <td>15</td>\n",
       "      <td>6</td>\n",
       "      <td>10</td>\n",
       "      <td>8.0</td>\n",
       "    </tr>\n",
       "    <tr>\n",
       "      <th>33819104</th>\n",
       "      <td>3421070</td>\n",
       "      <td>16953</td>\n",
       "      <td>2</td>\n",
       "      <td>1</td>\n",
       "      <td>Creamy Peanut Butter</td>\n",
       "      <td>88</td>\n",
       "      <td>13</td>\n",
       "      <td>spreads</td>\n",
       "      <td>pantry</td>\n",
       "      <td>139822</td>\n",
       "      <td>train</td>\n",
       "      <td>15</td>\n",
       "      <td>6</td>\n",
       "      <td>10</td>\n",
       "      <td>8.0</td>\n",
       "    </tr>\n",
       "    <tr>\n",
       "      <th>33819105</th>\n",
       "      <td>3421070</td>\n",
       "      <td>4724</td>\n",
       "      <td>3</td>\n",
       "      <td>1</td>\n",
       "      <td>Broccoli Florettes</td>\n",
       "      <td>32</td>\n",
       "      <td>4</td>\n",
       "      <td>packaged produce</td>\n",
       "      <td>produce</td>\n",
       "      <td>139822</td>\n",
       "      <td>train</td>\n",
       "      <td>15</td>\n",
       "      <td>6</td>\n",
       "      <td>10</td>\n",
       "      <td>8.0</td>\n",
       "    </tr>\n",
       "  </tbody>\n",
       "</table>\n",
       "<p>33819106 rows × 15 columns</p>\n",
       "</div>"
      ],
      "text/plain": [
       "          order_id  product_id  add_to_cart_order  reordered  \\\n",
       "0                2       33120                  1          1   \n",
       "1                2       28985                  2          1   \n",
       "2                2        9327                  3          0   \n",
       "3                2       45918                  4          1   \n",
       "4                2       30035                  5          0   \n",
       "...            ...         ...                ...        ...   \n",
       "33819101   3421063       14233                  3          1   \n",
       "33819102   3421063       35548                  4          1   \n",
       "33819103   3421070       35951                  1          1   \n",
       "33819104   3421070       16953                  2          1   \n",
       "33819105   3421070        4724                  3          1   \n",
       "\n",
       "                             product_name  aisle_id  department_id  \\\n",
       "0                      Organic Egg Whites        86             16   \n",
       "1                   Michigan Organic Kale        83              4   \n",
       "2                           Garlic Powder       104             13   \n",
       "3                          Coconut Butter        19             13   \n",
       "4                       Natural Sweetener        17             13   \n",
       "...                                   ...       ...            ...   \n",
       "33819101           Natural Artesian Water       115              7   \n",
       "33819102             Twice Baked Potatoes        13             20   \n",
       "33819103  Organic Unsweetened Almond Milk        91             16   \n",
       "33819104             Creamy Peanut Butter        88             13   \n",
       "33819105               Broccoli Florettes        32              4   \n",
       "\n",
       "                                  aisle  department  user_id eval_set  \\\n",
       "0                                  eggs  dairy eggs   202279    prior   \n",
       "1                      fresh vegetables     produce   202279    prior   \n",
       "2                     spices seasonings      pantry   202279    prior   \n",
       "3                         oils vinegars      pantry   202279    prior   \n",
       "4                    baking ingredients      pantry   202279    prior   \n",
       "...                                 ...         ...      ...      ...   \n",
       "33819101  water seltzer sparkling water   beverages   169679    train   \n",
       "33819102                 prepared meals        deli   169679    train   \n",
       "33819103                soy lactosefree  dairy eggs   139822    train   \n",
       "33819104                        spreads      pantry   139822    train   \n",
       "33819105               packaged produce     produce   139822    train   \n",
       "\n",
       "          order_number  order_dow  order_hour_of_day  days_since_prior_order  \n",
       "0                    3          5                  9                     8.0  \n",
       "1                    3          5                  9                     8.0  \n",
       "2                    3          5                  9                     8.0  \n",
       "3                    3          5                  9                     8.0  \n",
       "4                    3          5                  9                     8.0  \n",
       "...                ...        ...                ...                     ...  \n",
       "33819101            30          0                 10                     4.0  \n",
       "33819102            30          0                 10                     4.0  \n",
       "33819103            15          6                 10                     8.0  \n",
       "33819104            15          6                 10                     8.0  \n",
       "33819105            15          6                 10                     8.0  \n",
       "\n",
       "[33819106 rows x 15 columns]"
      ]
     },
     "execution_count": 43,
     "metadata": {},
     "output_type": "execute_result"
    }
   ],
   "source": [
    "order_products=order_products_prior.append(order_products_train)\n",
    "\n",
    "order_products=order_products.merge(products, on ='product_id', how='left')\n",
    "order_products=order_products.merge(aisles, how='left', on ='aisle_id')\n",
    "order_products=order_products.merge(departments, how='left', on ='department_id')\n",
    "order_products=order_products.merge(orders, how='left', on='order_id')\n",
    "order_products"
   ]
  },
  {
   "cell_type": "code",
   "execution_count": 44,
   "id": "9b40ef93",
   "metadata": {},
   "outputs": [
    {
     "data": {
      "text/html": [
       "<div>\n",
       "<style scoped>\n",
       "    .dataframe tbody tr th:only-of-type {\n",
       "        vertical-align: middle;\n",
       "    }\n",
       "\n",
       "    .dataframe tbody tr th {\n",
       "        vertical-align: top;\n",
       "    }\n",
       "\n",
       "    .dataframe thead th {\n",
       "        text-align: right;\n",
       "    }\n",
       "</style>\n",
       "<table border=\"1\" class=\"dataframe\">\n",
       "  <thead>\n",
       "    <tr style=\"text-align: right;\">\n",
       "      <th></th>\n",
       "      <th>product_name</th>\n",
       "      <th>total_orders</th>\n",
       "      <th>total_reorders</th>\n",
       "    </tr>\n",
       "  </thead>\n",
       "  <tbody>\n",
       "    <tr>\n",
       "      <th>0</th>\n",
       "      <td>Banana</td>\n",
       "      <td>491291</td>\n",
       "      <td>415166</td>\n",
       "    </tr>\n",
       "    <tr>\n",
       "      <th>1</th>\n",
       "      <td>Bag of Organic Bananas</td>\n",
       "      <td>394930</td>\n",
       "      <td>329275</td>\n",
       "    </tr>\n",
       "    <tr>\n",
       "      <th>2</th>\n",
       "      <td>Organic Strawberries</td>\n",
       "      <td>275577</td>\n",
       "      <td>214448</td>\n",
       "    </tr>\n",
       "    <tr>\n",
       "      <th>3</th>\n",
       "      <td>Organic Baby Spinach</td>\n",
       "      <td>251705</td>\n",
       "      <td>194939</td>\n",
       "    </tr>\n",
       "    <tr>\n",
       "      <th>4</th>\n",
       "      <td>Organic Hass Avocado</td>\n",
       "      <td>220877</td>\n",
       "      <td>176173</td>\n",
       "    </tr>\n",
       "    <tr>\n",
       "      <th>...</th>\n",
       "      <td>...</td>\n",
       "      <td>...</td>\n",
       "      <td>...</td>\n",
       "    </tr>\n",
       "    <tr>\n",
       "      <th>49680</th>\n",
       "      <td>Greek Blended Cherry Fat Free Yogurt</td>\n",
       "      <td>1</td>\n",
       "      <td>0</td>\n",
       "    </tr>\n",
       "    <tr>\n",
       "      <th>49681</th>\n",
       "      <td>All Natural Stevia Liquid Extract Sweetener</td>\n",
       "      <td>1</td>\n",
       "      <td>0</td>\n",
       "    </tr>\n",
       "    <tr>\n",
       "      <th>49682</th>\n",
       "      <td>Frittata, Farmer's Market</td>\n",
       "      <td>1</td>\n",
       "      <td>0</td>\n",
       "    </tr>\n",
       "    <tr>\n",
       "      <th>49683</th>\n",
       "      <td>Max White With Polishing Star Soft Toothbrush</td>\n",
       "      <td>1</td>\n",
       "      <td>0</td>\n",
       "    </tr>\n",
       "    <tr>\n",
       "      <th>49684</th>\n",
       "      <td>Orange Recharge</td>\n",
       "      <td>1</td>\n",
       "      <td>0</td>\n",
       "    </tr>\n",
       "  </tbody>\n",
       "</table>\n",
       "<p>49685 rows × 3 columns</p>\n",
       "</div>"
      ],
      "text/plain": [
       "                                        product_name  total_orders  \\\n",
       "0                                             Banana        491291   \n",
       "1                             Bag of Organic Bananas        394930   \n",
       "2                               Organic Strawberries        275577   \n",
       "3                               Organic Baby Spinach        251705   \n",
       "4                               Organic Hass Avocado        220877   \n",
       "...                                              ...           ...   \n",
       "49680           Greek Blended Cherry Fat Free Yogurt             1   \n",
       "49681    All Natural Stevia Liquid Extract Sweetener             1   \n",
       "49682                      Frittata, Farmer's Market             1   \n",
       "49683  Max White With Polishing Star Soft Toothbrush             1   \n",
       "49684                                Orange Recharge             1   \n",
       "\n",
       "       total_reorders  \n",
       "0              415166  \n",
       "1              329275  \n",
       "2              214448  \n",
       "3              194939  \n",
       "4              176173  \n",
       "...               ...  \n",
       "49680               0  \n",
       "49681               0  \n",
       "49682               0  \n",
       "49683               0  \n",
       "49684               0  \n",
       "\n",
       "[49685 rows x 3 columns]"
      ]
     },
     "execution_count": 44,
     "metadata": {},
     "output_type": "execute_result"
    }
   ],
   "source": [
    "temp_dataframe = order_products.groupby(\"product_name\")[\"reordered\"].agg(['count', 'sum']).rename(columns = {'count':'total_orders','sum':'total_reorders'})\n",
    "temp_dataframe = temp_dataframe.sort_values('total_orders', ascending=False).reset_index()\n",
    "temp_dataframe\n"
   ]
  },
  {
   "cell_type": "code",
   "execution_count": 45,
   "id": "a1a01659",
   "metadata": {},
   "outputs": [
    {
     "data": {
      "image/png": "[encoded data removed]",
      "text/plain": [
       "<Figure size 1000x700 with 1 Axes>"
      ]
     },
     "metadata": {},
     "output_type": "display_data"
    },
    {
     "data": {
      "text/plain": [
       "<Figure size 640x480 with 0 Axes>"
      ]
     },
     "metadata": {},
     "output_type": "display_data"
    }
   ],
   "source": [
    "color_palette = sns.color_palette()\n",
    "\n",
    "fig, axis = plt.subplots(figsize = (10,7))\n",
    "axis = sns.barplot(y = temp_dataframe.product_name[0:20], x = temp_dataframe.total_orders[0:20], color=color_palette[0], label = \"total\")\n",
    "axis = sns.barplot(y = temp_dataframe.product_name[0:20], x = temp_dataframe.total_reorders[0:20], color=color_palette[3], label = \"reordered\")\n",
    "axis.set_ylabel(\"Product Names\")\n",
    "axis.set_xlabel(\"Total number of Orders\")\n",
    "axis.set_title(\"Popularity of Products\")\n",
    "axis.legend(loc = 4, prop={'size': 11})\n",
    "plt.show()\n",
    "plt.savefig('fig.png')"
   ]
  },
  {
   "cell_type": "code",
   "execution_count": 46,
   "id": "1222bfbb",
   "metadata": {},
   "outputs": [
    {
     "data": {
      "text/html": [
       "<div>\n",
       "<style scoped>\n",
       "    .dataframe tbody tr th:only-of-type {\n",
       "        vertical-align: middle;\n",
       "    }\n",
       "\n",
       "    .dataframe tbody tr th {\n",
       "        vertical-align: top;\n",
       "    }\n",
       "\n",
       "    .dataframe thead th {\n",
       "        text-align: right;\n",
       "    }\n",
       "</style>\n",
       "<table border=\"1\" class=\"dataframe\">\n",
       "  <thead>\n",
       "    <tr style=\"text-align: right;\">\n",
       "      <th></th>\n",
       "      <th>total_orders</th>\n",
       "      <th>total_reorders</th>\n",
       "    </tr>\n",
       "    <tr>\n",
       "      <th>product_name</th>\n",
       "      <th></th>\n",
       "      <th></th>\n",
       "    </tr>\n",
       "  </thead>\n",
       "  <tbody>\n",
       "    <tr>\n",
       "      <th>#2 Coffee Filters</th>\n",
       "      <td>799</td>\n",
       "      <td>265</td>\n",
       "    </tr>\n",
       "    <tr>\n",
       "      <th>#2 Cone White Coffee Filters</th>\n",
       "      <td>14</td>\n",
       "      <td>3</td>\n",
       "    </tr>\n",
       "    <tr>\n",
       "      <th>#4 Natural Brown Coffee Filters</th>\n",
       "      <td>247</td>\n",
       "      <td>90</td>\n",
       "    </tr>\n",
       "    <tr>\n",
       "      <th>&amp; Go! Hazelnut Spread + Pretzel Sticks</th>\n",
       "      <td>174</td>\n",
       "      <td>93</td>\n",
       "    </tr>\n",
       "    <tr>\n",
       "      <th>(70% Juice!) Mountain Raspberry Juice Squeeze</th>\n",
       "      <td>28</td>\n",
       "      <td>16</td>\n",
       "    </tr>\n",
       "    <tr>\n",
       "      <th>...</th>\n",
       "      <td>...</td>\n",
       "      <td>...</td>\n",
       "    </tr>\n",
       "    <tr>\n",
       "      <th>with Xylitol Unwrapped Original Flavor 50 Sticks Sugar Free Gum</th>\n",
       "      <td>41</td>\n",
       "      <td>17</td>\n",
       "    </tr>\n",
       "    <tr>\n",
       "      <th>with Xylitol Unwrapped Spearmint 50 Sticks Sugar Free Gum</th>\n",
       "      <td>57</td>\n",
       "      <td>20</td>\n",
       "    </tr>\n",
       "    <tr>\n",
       "      <th>with Xylitol Watermelon Twist 18 Sticks Sugar Free Gum</th>\n",
       "      <td>74</td>\n",
       "      <td>34</td>\n",
       "    </tr>\n",
       "    <tr>\n",
       "      <th>with a Splash of Mango Coconut Water</th>\n",
       "      <td>27</td>\n",
       "      <td>7</td>\n",
       "    </tr>\n",
       "    <tr>\n",
       "      <th>with a Splash of Pineapple Coconut Water</th>\n",
       "      <td>57</td>\n",
       "      <td>26</td>\n",
       "    </tr>\n",
       "  </tbody>\n",
       "</table>\n",
       "<p>45603 rows × 2 columns</p>\n",
       "</div>"
      ],
      "text/plain": [
       "                                                    total_orders  \\\n",
       "product_name                                                       \n",
       "#2 Coffee Filters                                            799   \n",
       "#2 Cone White Coffee Filters                                  14   \n",
       "#4 Natural Brown Coffee Filters                              247   \n",
       "& Go! Hazelnut Spread + Pretzel Sticks                       174   \n",
       "(70% Juice!) Mountain Raspberry Juice Squeeze                 28   \n",
       "...                                                          ...   \n",
       "with Xylitol Unwrapped Original Flavor 50 Stick...            41   \n",
       "with Xylitol Unwrapped Spearmint 50 Sticks Suga...            57   \n",
       "with Xylitol Watermelon Twist 18 Sticks Sugar F...            74   \n",
       "with a Splash of Mango Coconut Water                          27   \n",
       "with a Splash of Pineapple Coconut Water                      57   \n",
       "\n",
       "                                                    total_reorders  \n",
       "product_name                                                        \n",
       "#2 Coffee Filters                                              265  \n",
       "#2 Cone White Coffee Filters                                     3  \n",
       "#4 Natural Brown Coffee Filters                                 90  \n",
       "& Go! Hazelnut Spread + Pretzel Sticks                          93  \n",
       "(70% Juice!) Mountain Raspberry Juice Squeeze                   16  \n",
       "...                                                            ...  \n",
       "with Xylitol Unwrapped Original Flavor 50 Stick...              17  \n",
       "with Xylitol Unwrapped Spearmint 50 Sticks Suga...              20  \n",
       "with Xylitol Watermelon Twist 18 Sticks Sugar F...              34  \n",
       "with a Splash of Mango Coconut Water                             7  \n",
       "with a Splash of Pineapple Coconut Water                        26  \n",
       "\n",
       "[45603 rows x 2 columns]"
      ]
     },
     "execution_count": 46,
     "metadata": {},
     "output_type": "execute_result"
    }
   ],
   "source": [
    "temp_df2 = order_products.groupby(\"product_name\")[\"reordered\"].\\\n",
    "                        agg(['count', 'sum']).\\\n",
    "                        rename(columns = {'count':'total_orders','sum':'total_reorders'})\n",
    "temp_df2 = temp_df2[temp_df2.total_reorders>0]\n",
    "temp_df2"
   ]
  },
  {
   "cell_type": "code",
   "execution_count": 47,
   "id": "d9b8b0cc",
   "metadata": {},
   "outputs": [
    {
     "data": {
      "text/html": [
       "<div>\n",
       "<style scoped>\n",
       "    .dataframe tbody tr th:only-of-type {\n",
       "        vertical-align: middle;\n",
       "    }\n",
       "\n",
       "    .dataframe tbody tr th {\n",
       "        vertical-align: top;\n",
       "    }\n",
       "\n",
       "    .dataframe thead th {\n",
       "        text-align: right;\n",
       "    }\n",
       "</style>\n",
       "<table border=\"1\" class=\"dataframe\">\n",
       "  <thead>\n",
       "    <tr style=\"text-align: right;\">\n",
       "      <th></th>\n",
       "      <th>product_name</th>\n",
       "      <th>total_orders</th>\n",
       "      <th>total_reorders</th>\n",
       "      <th>reorder_ratio</th>\n",
       "    </tr>\n",
       "  </thead>\n",
       "  <tbody>\n",
       "    <tr>\n",
       "      <th>0</th>\n",
       "      <td>Banana</td>\n",
       "      <td>491291</td>\n",
       "      <td>415166</td>\n",
       "      <td>0.845051</td>\n",
       "    </tr>\n",
       "    <tr>\n",
       "      <th>1</th>\n",
       "      <td>Bag of Organic Bananas</td>\n",
       "      <td>394930</td>\n",
       "      <td>329275</td>\n",
       "      <td>0.833755</td>\n",
       "    </tr>\n",
       "    <tr>\n",
       "      <th>2</th>\n",
       "      <td>Organic Strawberries</td>\n",
       "      <td>275577</td>\n",
       "      <td>214448</td>\n",
       "      <td>0.778178</td>\n",
       "    </tr>\n",
       "    <tr>\n",
       "      <th>3</th>\n",
       "      <td>Organic Baby Spinach</td>\n",
       "      <td>251705</td>\n",
       "      <td>194939</td>\n",
       "      <td>0.774474</td>\n",
       "    </tr>\n",
       "    <tr>\n",
       "      <th>4</th>\n",
       "      <td>Organic Hass Avocado</td>\n",
       "      <td>220877</td>\n",
       "      <td>176173</td>\n",
       "      <td>0.797607</td>\n",
       "    </tr>\n",
       "  </tbody>\n",
       "</table>\n",
       "</div>"
      ],
      "text/plain": [
       "             product_name  total_orders  total_reorders  reorder_ratio\n",
       "0                  Banana        491291          415166       0.845051\n",
       "1  Bag of Organic Bananas        394930          329275       0.833755\n",
       "2    Organic Strawberries        275577          214448       0.778178\n",
       "3    Organic Baby Spinach        251705          194939       0.774474\n",
       "4    Organic Hass Avocado        220877          176173       0.797607"
      ]
     },
     "execution_count": 47,
     "metadata": {},
     "output_type": "execute_result"
    }
   ],
   "source": [
    "temp_df2['reorder_ratio'] = temp_df2.total_reorders/temp_df2.total_orders\n",
    "temp_df2 = temp_df2.sort_values('total_orders', ascending=False).reset_index()\n",
    "temp_df2.head()\n"
   ]
  },
  {
   "cell_type": "code",
   "execution_count": 48,
   "id": "868c5041",
   "metadata": {},
   "outputs": [
    {
     "data": {
      "image/png": "[encoded data removed]",
      "text/plain": [
       "<Figure size 1000x700 with 1 Axes>"
      ]
     },
     "metadata": {},
     "output_type": "display_data"
    }
   ],
   "source": [
    "fig, axis = plt.subplots(figsize = (10,7))\n",
    "axis = sns.barplot(y = temp_df2.product_name[0:15], x = temp_df2.reorder_ratio[0:15], color=color_palette[6], label = \"total\")\n",
    "axis.set_ylabel(\"Product\")\n",
    "axis.set_xlabel(\"Reorder ratio\")\n",
    "axis.set_title(\"Most Popular Products\")\n",
    "axis.legend(loc = 4, prop={'size': 12})\n",
    "plt.show()\n"
   ]
  },
  {
   "cell_type": "markdown",
   "id": "90ed3f07",
   "metadata": {},
   "source": [
    "#### Q4. Frequently ordered and reordered products categorized by department."
   ]
  },
  {
   "cell_type": "code",
   "execution_count": 49,
   "id": "a60189e6",
   "metadata": {},
   "outputs": [],
   "source": [
    "dep_prod_merged=order_products_merged.merge(product_info,on='product_id')"
   ]
  },
  {
   "cell_type": "code",
   "execution_count": 50,
   "id": "5cccbb00",
   "metadata": {},
   "outputs": [
    {
     "data": {
      "text/plain": [
       "21"
      ]
     },
     "execution_count": 50,
     "metadata": {},
     "output_type": "execute_result"
    }
   ],
   "source": [
    "len(departments)"
   ]
  },
  {
   "cell_type": "code",
   "execution_count": 51,
   "id": "759d2a39",
   "metadata": {},
   "outputs": [
    {
     "data": {
      "text/plain": [
       "Text(0.5, 1.0, 'Count of order for each Department.')"
      ]
     },
     "execution_count": 51,
     "metadata": {},
     "output_type": "execute_result"
    },
    {
     "data": {
      "image/png": "[encoded data removed]",
      "text/plain": [
       "<Figure size 1500x1000 with 1 Axes>"
      ]
     },
     "metadata": {},
     "output_type": "display_data"
    }
   ],
   "source": [
    "grouped_order=dep_prod_merged.groupby(['department'])['order_id'].count().sort_values()\n",
    "grouped_order.plot(kind='barh', figsize=(15,10), grid=True, x='count of orders', label='count of orders')\n",
    "plt.legend(loc = 4, prop={'size': 12})\n",
    "plt.xlabel('count of orders')\n",
    "plt.title('Count of order for each Department.')\n"
   ]
  },
  {
   "cell_type": "code",
   "execution_count": 52,
   "id": "8d177584",
   "metadata": {},
   "outputs": [
    {
     "data": {
      "text/plain": [
       "Text(0.5, 1.0, 'Rate of reorder for each Department.')"
      ]
     },
     "execution_count": 52,
     "metadata": {},
     "output_type": "execute_result"
    },
    {
     "data": {
      "image/png": "[encoded data removed]",
      "text/plain": [
       "<Figure size 1500x1000 with 1 Axes>"
      ]
     },
     "metadata": {},
     "output_type": "display_data"
    }
   ],
   "source": [
    "grouped_reorder=dep_prod_merged.groupby(['department'])\n",
    "mean_sorted_reorder=grouped_reorder['reordered'].mean().sort_values()\n",
    "mean_sorted_reorder.plot(kind='barh', figsize=(15,10), grid=True, label='count of orders')\n",
    "plt.legend(loc = 4, prop={'size': 12})\n",
    "plt.xlabel('rate of reorder')\n",
    "plt.title('Rate of reorder for each Department.')"
   ]
  },
  {
   "cell_type": "markdown",
   "id": "317e75e4",
   "metadata": {},
   "source": [
    "#### Q5. Frequently ordered and reordered products categorized by aisle."
   ]
  },
  {
   "cell_type": "code",
   "execution_count": 53,
   "id": "c60cafd9",
   "metadata": {},
   "outputs": [
    {
     "data": {
      "text/plain": [
       "Text(0.5, 1.0, 'Count of order for each Aisle.')"
      ]
     },
     "execution_count": 53,
     "metadata": {},
     "output_type": "execute_result"
    },
    {
     "data": {
      "image/png": "[encoded data removed]",
      "text/plain": [
       "<Figure size 1500x1000 with 1 Axes>"
      ]
     },
     "metadata": {},
     "output_type": "display_data"
    }
   ],
   "source": [
    "aisle_grouped_order=dep_prod_merged.groupby(['aisle'])['order_id'].count().sort_values()[-20:]\n",
    "aisle_grouped_order.plot(kind='barh', figsize=(15,10), grid=True, label='count of orders')\n",
    "plt.legend(loc = 4, prop={'size': 12})\n",
    "plt.xlabel('count of orders')\n",
    "plt.title('Count of order for each Aisle.')\n"
   ]
  },
  {
   "cell_type": "code",
   "execution_count": 54,
   "id": "3cf288b8",
   "metadata": {},
   "outputs": [
    {
     "data": {
      "text/plain": [
       "Text(0.5, 1.0, 'Rate of reorder for each Aisle.')"
      ]
     },
     "execution_count": 54,
     "metadata": {},
     "output_type": "execute_result"
    },
    {
     "data": {
      "image/png": "[encoded data removed]",
      "text/plain": [
       "<Figure size 1500x1000 with 1 Axes>"
      ]
     },
     "metadata": {},
     "output_type": "display_data"
    }
   ],
   "source": [
    "aisle_grouped_reorder=dep_prod_merged.groupby(['aisle'])\n",
    "aisle_mean_sorted_reorder=aisle_grouped_reorder['reordered'].mean().sort_values()[-20:]\n",
    "aisle_mean_sorted_reorder.plot(kind='barh', figsize=(15,10), grid=True, label='count of orders')\n",
    "plt.legend(loc = 4, prop={'size': 12})\n",
    "plt.xlabel('rate of reorder')\n",
    "plt.title('Rate of reorder for each Aisle.')"
   ]
  },
  {
   "cell_type": "markdown",
   "id": "49b9d1f1",
   "metadata": {},
   "source": [
    "#### Q6. Number of products ordered and reordered in a particular day of the week.\n"
   ]
  },
  {
   "cell_type": "code",
   "execution_count": 55,
   "id": "660b0334",
   "metadata": {},
   "outputs": [
    {
     "name": "stdout",
     "output_type": "stream",
     "text": [
      "order_dow\n",
      "0    3831900\n",
      "1    3544661\n",
      "2    2582006\n",
      "3    2344277\n",
      "4    2330620\n",
      "5    2613888\n",
      "6    2708008\n",
      "Name: reordered, dtype: int64\n",
      "order_dow\n",
      "0    6533692\n",
      "1    5871834\n",
      "2    4378360\n",
      "3    3998498\n",
      "4    3942696\n",
      "5    4386443\n",
      "6    4707583\n",
      "Name: order_id, dtype: int64\n"
     ]
    }
   ],
   "source": [
    "reordered_dow=orders_product_merged.groupby('order_dow')['reordered'].apply(lambda x: (x==1).sum())\n",
    "print(reordered_dow)\n",
    "\n",
    "total_orders_dow=orders_product_merged.groupby('order_dow')['order_id'].count()\n",
    "print(total_orders_dow)\n"
   ]
  },
  {
   "cell_type": "code",
   "execution_count": 56,
   "id": "2995daca",
   "metadata": {},
   "outputs": [
    {
     "data": {
      "text/html": [
       "<div>\n",
       "<style scoped>\n",
       "    .dataframe tbody tr th:only-of-type {\n",
       "        vertical-align: middle;\n",
       "    }\n",
       "\n",
       "    .dataframe tbody tr th {\n",
       "        vertical-align: top;\n",
       "    }\n",
       "\n",
       "    .dataframe thead th {\n",
       "        text-align: right;\n",
       "    }\n",
       "</style>\n",
       "<table border=\"1\" class=\"dataframe\">\n",
       "  <thead>\n",
       "    <tr style=\"text-align: right;\">\n",
       "      <th></th>\n",
       "      <th>order_dow</th>\n",
       "      <th>total_orders</th>\n",
       "      <th>reorders</th>\n",
       "    </tr>\n",
       "  </thead>\n",
       "  <tbody>\n",
       "    <tr>\n",
       "      <th>0</th>\n",
       "      <td>0</td>\n",
       "      <td>6533692</td>\n",
       "      <td>3831900</td>\n",
       "    </tr>\n",
       "    <tr>\n",
       "      <th>1</th>\n",
       "      <td>1</td>\n",
       "      <td>5871834</td>\n",
       "      <td>3544661</td>\n",
       "    </tr>\n",
       "    <tr>\n",
       "      <th>2</th>\n",
       "      <td>2</td>\n",
       "      <td>4378360</td>\n",
       "      <td>2582006</td>\n",
       "    </tr>\n",
       "    <tr>\n",
       "      <th>3</th>\n",
       "      <td>3</td>\n",
       "      <td>3998498</td>\n",
       "      <td>2344277</td>\n",
       "    </tr>\n",
       "    <tr>\n",
       "      <th>4</th>\n",
       "      <td>4</td>\n",
       "      <td>3942696</td>\n",
       "      <td>2330620</td>\n",
       "    </tr>\n",
       "    <tr>\n",
       "      <th>5</th>\n",
       "      <td>5</td>\n",
       "      <td>4386443</td>\n",
       "      <td>2613888</td>\n",
       "    </tr>\n",
       "    <tr>\n",
       "      <th>6</th>\n",
       "      <td>6</td>\n",
       "      <td>4707583</td>\n",
       "      <td>2708008</td>\n",
       "    </tr>\n",
       "  </tbody>\n",
       "</table>\n",
       "</div>"
      ],
      "text/plain": [
       "   order_dow  total_orders  reorders\n",
       "0          0       6533692   3831900\n",
       "1          1       5871834   3544661\n",
       "2          2       4378360   2582006\n",
       "3          3       3998498   2344277\n",
       "4          4       3942696   2330620\n",
       "5          5       4386443   2613888\n",
       "6          6       4707583   2708008"
      ]
     },
     "execution_count": 56,
     "metadata": {},
     "output_type": "execute_result"
    }
   ],
   "source": [
    "d_dow={'order_dow':np.arange(0,7), 'total_orders':total_orders_dow, 'reorders': reordered_dow}\n",
    "temp_df_dow = pd.DataFrame(data=d_dow, index=np.arange(0,7))\n",
    "temp_df_dow"
   ]
  },
  {
   "cell_type": "code",
   "execution_count": 57,
   "id": "43682108",
   "metadata": {},
   "outputs": [
    {
     "data": {
      "image/png": "[encoded data removed]",
      "text/plain": [
       "<Figure size 1000x700 with 1 Axes>"
      ]
     },
     "metadata": {},
     "output_type": "display_data"
    }
   ],
   "source": [
    "color_palette = sns.color_palette()\n",
    "\n",
    "fig, axis = plt.subplots(figsize = (10,7))\n",
    "axis = sns.barplot(y = temp_df_dow['total_orders'], x = temp_df_dow['order_dow'], color=color_palette[0], label = \"Orders\")\n",
    "axis = sns.barplot(y = temp_df_dow['reorders'], x = temp_df_dow['order_dow'], color=color_palette[3],label = \"Reordered\")\n",
    "axis.set_ylabel(\"Count\")\n",
    "axis.set_xlabel(\"Day of week\")\n",
    "axis.set_title(\"Number of orders ordered and reordered each day of week\")\n",
    "axis.legend(loc = 1, prop={'size': 11})\n",
    "plt.show()"
   ]
  },
  {
   "cell_type": "markdown",
   "id": "e17e0a47",
   "metadata": {},
   "source": [
    "#### Q6. Number of products ordered and reordered in a particular hour of the day"
   ]
  },
  {
   "cell_type": "code",
   "execution_count": 58,
   "id": "eb7a86d9",
   "metadata": {},
   "outputs": [
    {
     "name": "stdout",
     "output_type": "stream",
     "text": [
      "order_hour_of_day\n",
      "0      129003\n",
      "1       67766\n",
      "2       40368\n",
      "3       30132\n",
      "4       31889\n",
      "5       55933\n",
      "6      192798\n",
      "7      598407\n",
      "8     1130174\n",
      "9     1580305\n",
      "10    1726499\n",
      "11    1676271\n",
      "12    1583898\n",
      "13    1612121\n",
      "14    1635288\n",
      "15    1615183\n",
      "16    1533153\n",
      "17    1258378\n",
      "18     983991\n",
      "19     757537\n",
      "20     593323\n",
      "21     491564\n",
      "22     387990\n",
      "23     243389\n",
      "Name: reordered, dtype: int64\n",
      "order_hour_of_day\n",
      "0      228031\n",
      "1      121412\n",
      "2       72660\n",
      "3       53759\n",
      "4       55714\n",
      "5       91909\n",
      "6      302642\n",
      "7      928239\n",
      "8     1787359\n",
      "9     2550569\n",
      "10    2874905\n",
      "11    2852701\n",
      "12    2732599\n",
      "13    2778054\n",
      "14    2810918\n",
      "15    2780731\n",
      "16    2647695\n",
      "17    2186409\n",
      "18    1714445\n",
      "19    1317576\n",
      "20    1017958\n",
      "21     831183\n",
      "22     662053\n",
      "23     419585\n",
      "Name: order_id, dtype: int64\n"
     ]
    }
   ],
   "source": [
    "reordered_hod=orders_product_merged.groupby('order_hour_of_day')['reordered'].apply(lambda x: (x==1).sum())\n",
    "print(reordered_hod)\n",
    "\n",
    "total_orders_hod=orders_product_merged.groupby('order_hour_of_day')['order_id'].count()\n",
    "print(total_orders_hod)\n"
   ]
  },
  {
   "cell_type": "code",
   "execution_count": 59,
   "id": "a8a9be58",
   "metadata": {},
   "outputs": [
    {
     "data": {
      "text/html": [
       "<div>\n",
       "<style scoped>\n",
       "    .dataframe tbody tr th:only-of-type {\n",
       "        vertical-align: middle;\n",
       "    }\n",
       "\n",
       "    .dataframe tbody tr th {\n",
       "        vertical-align: top;\n",
       "    }\n",
       "\n",
       "    .dataframe thead th {\n",
       "        text-align: right;\n",
       "    }\n",
       "</style>\n",
       "<table border=\"1\" class=\"dataframe\">\n",
       "  <thead>\n",
       "    <tr style=\"text-align: right;\">\n",
       "      <th></th>\n",
       "      <th>order_hour_of_day</th>\n",
       "      <th>total_orders</th>\n",
       "      <th>reorders</th>\n",
       "    </tr>\n",
       "  </thead>\n",
       "  <tbody>\n",
       "    <tr>\n",
       "      <th>0</th>\n",
       "      <td>0</td>\n",
       "      <td>228031</td>\n",
       "      <td>129003</td>\n",
       "    </tr>\n",
       "    <tr>\n",
       "      <th>1</th>\n",
       "      <td>1</td>\n",
       "      <td>121412</td>\n",
       "      <td>67766</td>\n",
       "    </tr>\n",
       "    <tr>\n",
       "      <th>2</th>\n",
       "      <td>2</td>\n",
       "      <td>72660</td>\n",
       "      <td>40368</td>\n",
       "    </tr>\n",
       "    <tr>\n",
       "      <th>3</th>\n",
       "      <td>3</td>\n",
       "      <td>53759</td>\n",
       "      <td>30132</td>\n",
       "    </tr>\n",
       "    <tr>\n",
       "      <th>4</th>\n",
       "      <td>4</td>\n",
       "      <td>55714</td>\n",
       "      <td>31889</td>\n",
       "    </tr>\n",
       "    <tr>\n",
       "      <th>5</th>\n",
       "      <td>5</td>\n",
       "      <td>91909</td>\n",
       "      <td>55933</td>\n",
       "    </tr>\n",
       "    <tr>\n",
       "      <th>6</th>\n",
       "      <td>6</td>\n",
       "      <td>302642</td>\n",
       "      <td>192798</td>\n",
       "    </tr>\n",
       "    <tr>\n",
       "      <th>7</th>\n",
       "      <td>7</td>\n",
       "      <td>928239</td>\n",
       "      <td>598407</td>\n",
       "    </tr>\n",
       "    <tr>\n",
       "      <th>8</th>\n",
       "      <td>8</td>\n",
       "      <td>1787359</td>\n",
       "      <td>1130174</td>\n",
       "    </tr>\n",
       "    <tr>\n",
       "      <th>9</th>\n",
       "      <td>9</td>\n",
       "      <td>2550569</td>\n",
       "      <td>1580305</td>\n",
       "    </tr>\n",
       "    <tr>\n",
       "      <th>10</th>\n",
       "      <td>10</td>\n",
       "      <td>2874905</td>\n",
       "      <td>1726499</td>\n",
       "    </tr>\n",
       "    <tr>\n",
       "      <th>11</th>\n",
       "      <td>11</td>\n",
       "      <td>2852701</td>\n",
       "      <td>1676271</td>\n",
       "    </tr>\n",
       "    <tr>\n",
       "      <th>12</th>\n",
       "      <td>12</td>\n",
       "      <td>2732599</td>\n",
       "      <td>1583898</td>\n",
       "    </tr>\n",
       "    <tr>\n",
       "      <th>13</th>\n",
       "      <td>13</td>\n",
       "      <td>2778054</td>\n",
       "      <td>1612121</td>\n",
       "    </tr>\n",
       "    <tr>\n",
       "      <th>14</th>\n",
       "      <td>14</td>\n",
       "      <td>2810918</td>\n",
       "      <td>1635288</td>\n",
       "    </tr>\n",
       "    <tr>\n",
       "      <th>15</th>\n",
       "      <td>15</td>\n",
       "      <td>2780731</td>\n",
       "      <td>1615183</td>\n",
       "    </tr>\n",
       "    <tr>\n",
       "      <th>16</th>\n",
       "      <td>16</td>\n",
       "      <td>2647695</td>\n",
       "      <td>1533153</td>\n",
       "    </tr>\n",
       "    <tr>\n",
       "      <th>17</th>\n",
       "      <td>17</td>\n",
       "      <td>2186409</td>\n",
       "      <td>1258378</td>\n",
       "    </tr>\n",
       "    <tr>\n",
       "      <th>18</th>\n",
       "      <td>18</td>\n",
       "      <td>1714445</td>\n",
       "      <td>983991</td>\n",
       "    </tr>\n",
       "    <tr>\n",
       "      <th>19</th>\n",
       "      <td>19</td>\n",
       "      <td>1317576</td>\n",
       "      <td>757537</td>\n",
       "    </tr>\n",
       "    <tr>\n",
       "      <th>20</th>\n",
       "      <td>20</td>\n",
       "      <td>1017958</td>\n",
       "      <td>593323</td>\n",
       "    </tr>\n",
       "    <tr>\n",
       "      <th>21</th>\n",
       "      <td>21</td>\n",
       "      <td>831183</td>\n",
       "      <td>491564</td>\n",
       "    </tr>\n",
       "    <tr>\n",
       "      <th>22</th>\n",
       "      <td>22</td>\n",
       "      <td>662053</td>\n",
       "      <td>387990</td>\n",
       "    </tr>\n",
       "    <tr>\n",
       "      <th>23</th>\n",
       "      <td>23</td>\n",
       "      <td>419585</td>\n",
       "      <td>243389</td>\n",
       "    </tr>\n",
       "  </tbody>\n",
       "</table>\n",
       "</div>"
      ],
      "text/plain": [
       "    order_hour_of_day  total_orders  reorders\n",
       "0                   0        228031    129003\n",
       "1                   1        121412     67766\n",
       "2                   2         72660     40368\n",
       "3                   3         53759     30132\n",
       "4                   4         55714     31889\n",
       "5                   5         91909     55933\n",
       "6                   6        302642    192798\n",
       "7                   7        928239    598407\n",
       "8                   8       1787359   1130174\n",
       "9                   9       2550569   1580305\n",
       "10                 10       2874905   1726499\n",
       "11                 11       2852701   1676271\n",
       "12                 12       2732599   1583898\n",
       "13                 13       2778054   1612121\n",
       "14                 14       2810918   1635288\n",
       "15                 15       2780731   1615183\n",
       "16                 16       2647695   1533153\n",
       "17                 17       2186409   1258378\n",
       "18                 18       1714445    983991\n",
       "19                 19       1317576    757537\n",
       "20                 20       1017958    593323\n",
       "21                 21        831183    491564\n",
       "22                 22        662053    387990\n",
       "23                 23        419585    243389"
      ]
     },
     "execution_count": 59,
     "metadata": {},
     "output_type": "execute_result"
    }
   ],
   "source": [
    "d_hod={'order_hour_of_day':np.arange(0,24), 'total_orders':total_orders_hod, 'reorders': reordered_hod}\n",
    "temp_df_hod = pd.DataFrame(data=d_hod, index=np.arange(0,24))\n",
    "temp_df_hod\n"
   ]
  },
  {
   "cell_type": "code",
   "execution_count": 60,
   "id": "47b9c7b3",
   "metadata": {},
   "outputs": [
    {
     "data": {
      "image/png": "[encoded data removed]",
      "text/plain": [
       "<Figure size 1000x700 with 1 Axes>"
      ]
     },
     "metadata": {},
     "output_type": "display_data"
    }
   ],
   "source": [
    "color_palette = sns.color_palette()\n",
    "\n",
    "fig, axis = plt.subplots(figsize = (10,7))\n",
    "axis = sns.barplot(y = temp_df_hod['total_orders'], x = temp_df_hod['order_hour_of_day'], color=color_palette[0], label = \"Orders\")\n",
    "axis = sns.barplot(y = temp_df_hod['reorders'], x = temp_df_hod['order_hour_of_day'], color=color_palette[3], label = \"Reordered\")\n",
    "axis.set_ylabel(\"Count\")\n",
    "axis.set_xlabel(\"Hour of Day\")\n",
    "axis.set_title(\"Number of orders ordered and reordered each hour of day\")\n",
    "axis.legend(loc = 1, prop={'size': 11})\n",
    "plt.show()"
   ]
  },
  {
   "cell_type": "code",
   "execution_count": null,
   "id": "a18db918",
   "metadata": {},
   "outputs": [],
   "source": []
  }
 ],
 "metadata": {
  "kernelspec": {
   "display_name": "Python 3 (ipykernel)",
   "language": "python",
   "name": "python3"
  },
  "language_info": {
   "codemirror_mode": {
    "name": "ipython",
    "version": 3
   },
   "file_extension": ".py",
   "mimetype": "text/x-python",
   "name": "python",
   "nbconvert_exporter": "python",
   "pygments_lexer": "ipython3",
   "version": "3.9.13"
  }
 },
 "nbformat": 4,
 "nbformat_minor": 5
}
